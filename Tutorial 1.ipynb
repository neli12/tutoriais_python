{
 "cells": [
  {
   "cell_type": "markdown",
   "id": "fd9a0832",
   "metadata": {},
   "source": [
    "## Tutorial 1"
   ]
  },
  {
   "cell_type": "markdown",
   "id": "aed87780",
   "metadata": {},
   "source": [
    "### Primeiros passos"
   ]
  },
  {
   "cell_type": "code",
   "execution_count": 165,
   "id": "c9f21819",
   "metadata": {},
   "outputs": [],
   "source": [
    "# Carregando as librarias\n",
    "import numpy as np\n",
    "import pandas as pd\n",
    "import matplotlib.pyplot as plt\n",
    "import geopandas as gp\n",
    "from shapely.geometry import Point\n",
    "import folium\n",
    "import ee\n",
    "import geemap"
   ]
  },
  {
   "cell_type": "markdown",
   "id": "34a76234",
   "metadata": {},
   "source": [
    "Onde buscar informação sobre os pacotes: [PyPi](https://pypi.org/)  \n",
    "Confere o [Python API](https://developers.google.com/earth-engine/guides/python_install)  \n",
    "Confere o [geemap](https://geemap.org/)  "
   ]
  },
  {
   "cell_type": "code",
   "execution_count": 100,
   "id": "5b1558fa",
   "metadata": {},
   "outputs": [],
   "source": [
    "# Mostrar todas as linhas do banco de dados\n",
    "pd.set_option('display.max_rows', None)"
   ]
  },
  {
   "cell_type": "code",
   "execution_count": 101,
   "id": "22bd63b1",
   "metadata": {},
   "outputs": [],
   "source": [
    "# Carregando os dados\n",
    "dados = pd.read_csv(\"dataset.csv\", sep = ';')"
   ]
  },
  {
   "cell_type": "code",
   "execution_count": 102,
   "id": "b152fa5d",
   "metadata": {},
   "outputs": [
    {
     "data": {
      "text/html": [
       "<div>\n",
       "<style scoped>\n",
       "    .dataframe tbody tr th:only-of-type {\n",
       "        vertical-align: middle;\n",
       "    }\n",
       "\n",
       "    .dataframe tbody tr th {\n",
       "        vertical-align: top;\n",
       "    }\n",
       "\n",
       "    .dataframe thead th {\n",
       "        text-align: right;\n",
       "    }\n",
       "</style>\n",
       "<table border=\"1\" class=\"dataframe\">\n",
       "  <thead>\n",
       "    <tr style=\"text-align: right;\">\n",
       "      <th></th>\n",
       "      <th>X</th>\n",
       "      <th>Y</th>\n",
       "      <th>Clay.gkg</th>\n",
       "      <th>OM.gkg</th>\n",
       "    </tr>\n",
       "  </thead>\n",
       "  <tbody>\n",
       "    <tr>\n",
       "      <th>0</th>\n",
       "      <td>-47.431591</td>\n",
       "      <td>-22.773409</td>\n",
       "      <td>301</td>\n",
       "      <td>22.21</td>\n",
       "    </tr>\n",
       "    <tr>\n",
       "      <th>1</th>\n",
       "      <td>-47.449435</td>\n",
       "      <td>-22.841908</td>\n",
       "      <td>503</td>\n",
       "      <td>25.02</td>\n",
       "    </tr>\n",
       "    <tr>\n",
       "      <th>2</th>\n",
       "      <td>-47.378210</td>\n",
       "      <td>-22.856072</td>\n",
       "      <td>120</td>\n",
       "      <td>15.00</td>\n",
       "    </tr>\n",
       "    <tr>\n",
       "      <th>3</th>\n",
       "      <td>-47.375972</td>\n",
       "      <td>-22.864430</td>\n",
       "      <td>128</td>\n",
       "      <td>8.00</td>\n",
       "    </tr>\n",
       "    <tr>\n",
       "      <th>4</th>\n",
       "      <td>-47.372973</td>\n",
       "      <td>-22.868192</td>\n",
       "      <td>117</td>\n",
       "      <td>11.00</td>\n",
       "    </tr>\n",
       "  </tbody>\n",
       "</table>\n",
       "</div>"
      ],
      "text/plain": [
       "           X          Y  Clay.gkg  OM.gkg\n",
       "0 -47.431591 -22.773409       301   22.21\n",
       "1 -47.449435 -22.841908       503   25.02\n",
       "2 -47.378210 -22.856072       120   15.00\n",
       "3 -47.375972 -22.864430       128    8.00\n",
       "4 -47.372973 -22.868192       117   11.00"
      ]
     },
     "execution_count": 102,
     "metadata": {},
     "output_type": "execute_result"
    }
   ],
   "source": [
    "# Uma visão resumida\n",
    "dados.head()"
   ]
  },
  {
   "cell_type": "code",
   "execution_count": 104,
   "id": "9787f7fb",
   "metadata": {},
   "outputs": [
    {
     "name": "stdout",
     "output_type": "stream",
     "text": [
      "O conjunto de dados tem 388 linhas e 4 colunas\n"
     ]
    }
   ],
   "source": [
    "# Conhecendo o shape\n",
    "print('O conjunto de dados tem {} linhas e {} colunas'.format(dados.shape[0], dados.shape[1]))"
   ]
  },
  {
   "cell_type": "markdown",
   "id": "08b81df1",
   "metadata": {},
   "source": [
    "Para uma explicação sobre o .format(): https://www.w3schools.com/python/ref_string_format.asp"
   ]
  },
  {
   "cell_type": "code",
   "execution_count": 105,
   "id": "bb0c7a7d",
   "metadata": {},
   "outputs": [
    {
     "name": "stdout",
     "output_type": "stream",
     "text": [
      "<class 'pandas.core.frame.DataFrame'>\n",
      "RangeIndex: 388 entries, 0 to 387\n",
      "Data columns (total 4 columns):\n",
      " #   Column    Non-Null Count  Dtype  \n",
      "---  ------    --------------  -----  \n",
      " 0   X         388 non-null    float64\n",
      " 1   Y         388 non-null    float64\n",
      " 2   Clay.gkg  388 non-null    int64  \n",
      " 3   OM.gkg    388 non-null    float64\n",
      "dtypes: float64(3), int64(1)\n",
      "memory usage: 12.2 KB\n"
     ]
    }
   ],
   "source": [
    "# Info\n",
    "dados.info()"
   ]
  },
  {
   "cell_type": "code",
   "execution_count": 9,
   "id": "a697eacb",
   "metadata": {},
   "outputs": [
    {
     "data": {
      "text/plain": [
       "X           0\n",
       "Y           0\n",
       "Clay.gkg    0\n",
       "OM.gkg      0\n",
       "dtype: int64"
      ]
     },
     "execution_count": 9,
     "metadata": {},
     "output_type": "execute_result"
    }
   ],
   "source": [
    "# Checkando valores nulos\n",
    "dados.isnull().sum()"
   ]
  },
  {
   "cell_type": "code",
   "execution_count": 106,
   "id": "d36fbfbb",
   "metadata": {},
   "outputs": [
    {
     "data": {
      "text/html": [
       "<div>\n",
       "<style scoped>\n",
       "    .dataframe tbody tr th:only-of-type {\n",
       "        vertical-align: middle;\n",
       "    }\n",
       "\n",
       "    .dataframe tbody tr th {\n",
       "        vertical-align: top;\n",
       "    }\n",
       "\n",
       "    .dataframe thead th {\n",
       "        text-align: right;\n",
       "    }\n",
       "</style>\n",
       "<table border=\"1\" class=\"dataframe\">\n",
       "  <thead>\n",
       "    <tr style=\"text-align: right;\">\n",
       "      <th></th>\n",
       "      <th>X</th>\n",
       "      <th>Y</th>\n",
       "      <th>Clay.gkg</th>\n",
       "      <th>OM.gkg</th>\n",
       "    </tr>\n",
       "  </thead>\n",
       "  <tbody>\n",
       "    <tr>\n",
       "      <th>count</th>\n",
       "      <td>388.000000</td>\n",
       "      <td>388.000000</td>\n",
       "      <td>388.000000</td>\n",
       "      <td>388.000000</td>\n",
       "    </tr>\n",
       "    <tr>\n",
       "      <th>mean</th>\n",
       "      <td>-47.405859</td>\n",
       "      <td>-22.865197</td>\n",
       "      <td>267.840206</td>\n",
       "      <td>18.600335</td>\n",
       "    </tr>\n",
       "    <tr>\n",
       "      <th>std</th>\n",
       "      <td>0.028572</td>\n",
       "      <td>0.029960</td>\n",
       "      <td>161.258360</td>\n",
       "      <td>6.365130</td>\n",
       "    </tr>\n",
       "    <tr>\n",
       "      <th>min</th>\n",
       "      <td>-47.457000</td>\n",
       "      <td>-22.907360</td>\n",
       "      <td>13.000000</td>\n",
       "      <td>5.800000</td>\n",
       "    </tr>\n",
       "    <tr>\n",
       "      <th>25%</th>\n",
       "      <td>-47.429812</td>\n",
       "      <td>-22.889000</td>\n",
       "      <td>124.000000</td>\n",
       "      <td>13.200000</td>\n",
       "    </tr>\n",
       "    <tr>\n",
       "      <th>50%</th>\n",
       "      <td>-47.402296</td>\n",
       "      <td>-22.874463</td>\n",
       "      <td>234.500000</td>\n",
       "      <td>17.900000</td>\n",
       "    </tr>\n",
       "    <tr>\n",
       "      <th>75%</th>\n",
       "      <td>-47.384326</td>\n",
       "      <td>-22.842459</td>\n",
       "      <td>418.500000</td>\n",
       "      <td>23.025000</td>\n",
       "    </tr>\n",
       "    <tr>\n",
       "      <th>max</th>\n",
       "      <td>-47.345924</td>\n",
       "      <td>-22.773409</td>\n",
       "      <td>638.000000</td>\n",
       "      <td>39.000000</td>\n",
       "    </tr>\n",
       "  </tbody>\n",
       "</table>\n",
       "</div>"
      ],
      "text/plain": [
       "                X           Y    Clay.gkg      OM.gkg\n",
       "count  388.000000  388.000000  388.000000  388.000000\n",
       "mean   -47.405859  -22.865197  267.840206   18.600335\n",
       "std      0.028572    0.029960  161.258360    6.365130\n",
       "min    -47.457000  -22.907360   13.000000    5.800000\n",
       "25%    -47.429812  -22.889000  124.000000   13.200000\n",
       "50%    -47.402296  -22.874463  234.500000   17.900000\n",
       "75%    -47.384326  -22.842459  418.500000   23.025000\n",
       "max    -47.345924  -22.773409  638.000000   39.000000"
      ]
     },
     "execution_count": 106,
     "metadata": {},
     "output_type": "execute_result"
    }
   ],
   "source": [
    "# Descrever os dados\n",
    "dados.describe()"
   ]
  },
  {
   "cell_type": "code",
   "execution_count": 107,
   "id": "cb9a3073",
   "metadata": {},
   "outputs": [
    {
     "data": {
      "text/html": [
       "<div>\n",
       "<style scoped>\n",
       "    .dataframe tbody tr th:only-of-type {\n",
       "        vertical-align: middle;\n",
       "    }\n",
       "\n",
       "    .dataframe tbody tr th {\n",
       "        vertical-align: top;\n",
       "    }\n",
       "\n",
       "    .dataframe thead th {\n",
       "        text-align: right;\n",
       "    }\n",
       "</style>\n",
       "<table border=\"1\" class=\"dataframe\">\n",
       "  <thead>\n",
       "    <tr style=\"text-align: right;\">\n",
       "      <th></th>\n",
       "      <th>Lat</th>\n",
       "      <th>Long</th>\n",
       "      <th>Clay</th>\n",
       "      <th>OM</th>\n",
       "    </tr>\n",
       "  </thead>\n",
       "  <tbody>\n",
       "    <tr>\n",
       "      <th>0</th>\n",
       "      <td>-47.431591</td>\n",
       "      <td>-22.773409</td>\n",
       "      <td>301</td>\n",
       "      <td>22.21</td>\n",
       "    </tr>\n",
       "    <tr>\n",
       "      <th>1</th>\n",
       "      <td>-47.449435</td>\n",
       "      <td>-22.841908</td>\n",
       "      <td>503</td>\n",
       "      <td>25.02</td>\n",
       "    </tr>\n",
       "    <tr>\n",
       "      <th>2</th>\n",
       "      <td>-47.378210</td>\n",
       "      <td>-22.856072</td>\n",
       "      <td>120</td>\n",
       "      <td>15.00</td>\n",
       "    </tr>\n",
       "    <tr>\n",
       "      <th>3</th>\n",
       "      <td>-47.375972</td>\n",
       "      <td>-22.864430</td>\n",
       "      <td>128</td>\n",
       "      <td>8.00</td>\n",
       "    </tr>\n",
       "    <tr>\n",
       "      <th>4</th>\n",
       "      <td>-47.372973</td>\n",
       "      <td>-22.868192</td>\n",
       "      <td>117</td>\n",
       "      <td>11.00</td>\n",
       "    </tr>\n",
       "  </tbody>\n",
       "</table>\n",
       "</div>"
      ],
      "text/plain": [
       "         Lat       Long  Clay     OM\n",
       "0 -47.431591 -22.773409   301  22.21\n",
       "1 -47.449435 -22.841908   503  25.02\n",
       "2 -47.378210 -22.856072   120  15.00\n",
       "3 -47.375972 -22.864430   128   8.00\n",
       "4 -47.372973 -22.868192   117  11.00"
      ]
     },
     "execution_count": 107,
     "metadata": {},
     "output_type": "execute_result"
    }
   ],
   "source": [
    "# Trocando os nomes das colunas\n",
    "dict_name = {'X': 'Lat', 'Y': 'Long', 'Clay.gkg': 'Clay', 'OM.gkg': 'OM'}\n",
    "dados.rename(columns = dict_name, inplace = True)\n",
    "dados.head()"
   ]
  },
  {
   "cell_type": "code",
   "execution_count": 108,
   "id": "c194dd49",
   "metadata": {},
   "outputs": [
    {
     "data": {
      "text/plain": [
       "['Lat', 'Long']"
      ]
     },
     "execution_count": 108,
     "metadata": {},
     "output_type": "execute_result"
    }
   ],
   "source": [
    "# Criando uma lista\n",
    "lista = ['Lat', 'Long']\n",
    "lista"
   ]
  },
  {
   "cell_type": "code",
   "execution_count": 109,
   "id": "3b2db4d9",
   "metadata": {},
   "outputs": [
    {
     "data": {
      "text/html": [
       "<div>\n",
       "<style scoped>\n",
       "    .dataframe tbody tr th:only-of-type {\n",
       "        vertical-align: middle;\n",
       "    }\n",
       "\n",
       "    .dataframe tbody tr th {\n",
       "        vertical-align: top;\n",
       "    }\n",
       "\n",
       "    .dataframe thead th {\n",
       "        text-align: right;\n",
       "    }\n",
       "</style>\n",
       "<table border=\"1\" class=\"dataframe\">\n",
       "  <thead>\n",
       "    <tr style=\"text-align: right;\">\n",
       "      <th></th>\n",
       "      <th>Lat</th>\n",
       "      <th>Long</th>\n",
       "    </tr>\n",
       "  </thead>\n",
       "  <tbody>\n",
       "    <tr>\n",
       "      <th>0</th>\n",
       "      <td>-47.431591</td>\n",
       "      <td>-22.773409</td>\n",
       "    </tr>\n",
       "    <tr>\n",
       "      <th>1</th>\n",
       "      <td>-47.449435</td>\n",
       "      <td>-22.841908</td>\n",
       "    </tr>\n",
       "    <tr>\n",
       "      <th>2</th>\n",
       "      <td>-47.378210</td>\n",
       "      <td>-22.856072</td>\n",
       "    </tr>\n",
       "    <tr>\n",
       "      <th>3</th>\n",
       "      <td>-47.375972</td>\n",
       "      <td>-22.864430</td>\n",
       "    </tr>\n",
       "    <tr>\n",
       "      <th>4</th>\n",
       "      <td>-47.372973</td>\n",
       "      <td>-22.868192</td>\n",
       "    </tr>\n",
       "  </tbody>\n",
       "</table>\n",
       "</div>"
      ],
      "text/plain": [
       "         Lat       Long\n",
       "0 -47.431591 -22.773409\n",
       "1 -47.449435 -22.841908\n",
       "2 -47.378210 -22.856072\n",
       "3 -47.375972 -22.864430\n",
       "4 -47.372973 -22.868192"
      ]
     },
     "execution_count": 109,
     "metadata": {},
     "output_type": "execute_result"
    }
   ],
   "source": [
    "# Utilizando a lista para selecionar algumas colunas\n",
    "xy = dados[lista]\n",
    "xy.head()"
   ]
  },
  {
   "cell_type": "markdown",
   "id": "4fa7cf53",
   "metadata": {},
   "source": [
    "### Gráficos"
   ]
  },
  {
   "cell_type": "code",
   "execution_count": 124,
   "id": "0d33427a",
   "metadata": {},
   "outputs": [
    {
     "data": {
      "image/png": "[encoded data removed]",
      "text/plain": [
       "<Figure size 432x288 with 1 Axes>"
      ]
     },
     "metadata": {
      "needs_background": "light"
     },
     "output_type": "display_data"
    }
   ],
   "source": [
    "# Plotando o histograma da materia orgânica\n",
    "plt.hist(dados['OM'], bins = 30, color = 'green', edgecolor='black')\n",
    "plt.title('Histogram of OM content (g/kg)', fontsize = 14)\n",
    "plt.xlabel('OM content', fontsize = 14)\n",
    "plt.ylabel('Frequency', fontsize = 14)\n",
    "plt.show()"
   ]
  },
  {
   "cell_type": "code",
   "execution_count": 98,
   "id": "a4d08cd8",
   "metadata": {},
   "outputs": [
    {
     "data": {
      "image/png": "[encoded data removed]",
      "text/plain": [
       "<Figure size 432x288 with 1 Axes>"
      ]
     },
     "metadata": {
      "needs_background": "light"
     },
     "output_type": "display_data"
    }
   ],
   "source": [
    "# Plotando o boxplot da materia orgânica\n",
    "plt.boxplot(dados['OM'], patch_artist = True,\n",
    "                notch ='True', vert = False)\n",
    "plt.title('Histogram of OM content (g/kg)')\n",
    "plt.xlabel('OM content (kg/ha)')\n",
    "plt.show()"
   ]
  },
  {
   "cell_type": "markdown",
   "id": "c68ccc50",
   "metadata": {},
   "source": [
    "Veja mais nesse [link](https://realpython.com/python-zip-function/#:~:text=Python's%20zip()%20function%20is,%2C%20sets%2C%20and%20so%20on.) sobre a função zip() e neste [link](https://realpython.com/list-comprehension-python/) sobre list comprehension."
   ]
  },
  {
   "cell_type": "code",
   "execution_count": 115,
   "id": "f741bb86",
   "metadata": {},
   "outputs": [
    {
     "data": {
      "text/plain": [
       "[(-47.43159128, -22.77340888)]"
      ]
     },
     "execution_count": 115,
     "metadata": {},
     "output_type": "execute_result"
    }
   ],
   "source": [
    "xy = Point(dados['Lat'].iloc[0], dados['Long'].iloc[0])\n",
    "list(xy.coords)"
   ]
  },
  {
   "cell_type": "code",
   "execution_count": 131,
   "id": "82670ad7",
   "metadata": {},
   "outputs": [
    {
     "data": {
      "text/html": [
       "<div>\n",
       "<style scoped>\n",
       "    .dataframe tbody tr th:only-of-type {\n",
       "        vertical-align: middle;\n",
       "    }\n",
       "\n",
       "    .dataframe tbody tr th {\n",
       "        vertical-align: top;\n",
       "    }\n",
       "\n",
       "    .dataframe thead th {\n",
       "        text-align: right;\n",
       "    }\n",
       "</style>\n",
       "<table border=\"1\" class=\"dataframe\">\n",
       "  <thead>\n",
       "    <tr style=\"text-align: right;\">\n",
       "      <th></th>\n",
       "      <th>Lat</th>\n",
       "      <th>Long</th>\n",
       "      <th>Clay</th>\n",
       "      <th>OM</th>\n",
       "      <th>geometry</th>\n",
       "    </tr>\n",
       "  </thead>\n",
       "  <tbody>\n",
       "    <tr>\n",
       "      <th>0</th>\n",
       "      <td>-47.431591</td>\n",
       "      <td>-22.773409</td>\n",
       "      <td>301</td>\n",
       "      <td>22.21</td>\n",
       "      <td>POINT (-47.43159 -22.77341)</td>\n",
       "    </tr>\n",
       "    <tr>\n",
       "      <th>1</th>\n",
       "      <td>-47.449435</td>\n",
       "      <td>-22.841908</td>\n",
       "      <td>503</td>\n",
       "      <td>25.02</td>\n",
       "      <td>POINT (-47.44944 -22.84191)</td>\n",
       "    </tr>\n",
       "    <tr>\n",
       "      <th>2</th>\n",
       "      <td>-47.378210</td>\n",
       "      <td>-22.856072</td>\n",
       "      <td>120</td>\n",
       "      <td>15.00</td>\n",
       "      <td>POINT (-47.37821 -22.85607)</td>\n",
       "    </tr>\n",
       "    <tr>\n",
       "      <th>3</th>\n",
       "      <td>-47.375972</td>\n",
       "      <td>-22.864430</td>\n",
       "      <td>128</td>\n",
       "      <td>8.00</td>\n",
       "      <td>POINT (-47.37597 -22.86443)</td>\n",
       "    </tr>\n",
       "    <tr>\n",
       "      <th>4</th>\n",
       "      <td>-47.372973</td>\n",
       "      <td>-22.868192</td>\n",
       "      <td>117</td>\n",
       "      <td>11.00</td>\n",
       "      <td>POINT (-47.37297 -22.86819)</td>\n",
       "    </tr>\n",
       "  </tbody>\n",
       "</table>\n",
       "</div>"
      ],
      "text/plain": [
       "         Lat       Long  Clay     OM                     geometry\n",
       "0 -47.431591 -22.773409   301  22.21  POINT (-47.43159 -22.77341)\n",
       "1 -47.449435 -22.841908   503  25.02  POINT (-47.44944 -22.84191)\n",
       "2 -47.378210 -22.856072   120  15.00  POINT (-47.37821 -22.85607)\n",
       "3 -47.375972 -22.864430   128   8.00  POINT (-47.37597 -22.86443)\n",
       "4 -47.372973 -22.868192   117  11.00  POINT (-47.37297 -22.86819)"
      ]
     },
     "execution_count": 131,
     "metadata": {},
     "output_type": "execute_result"
    }
   ],
   "source": [
    "## Converter pandas dataframe para geopandas\n",
    "geo_xy = [Point(xy) for xy in zip(dados['Lat'], dados['Long'])]  # List comprehension e zip()\n",
    "dataset_gp = gp.GeoDataFrame(dados, crs = \"EPSG:4326\", geometry = geo_xy)\n",
    "dataset_gp.head()"
   ]
  },
  {
   "cell_type": "code",
   "execution_count": null,
   "id": "0eb59cda",
   "metadata": {},
   "outputs": [],
   "source": [
    "for xy in zip(dados['Lat'], dados['Long']):\n",
    "    print(xy)"
   ]
  },
  {
   "cell_type": "code",
   "execution_count": 133,
   "id": "01167ed3",
   "metadata": {},
   "outputs": [
    {
     "data": {
      "image/png": "[encoded data removed]",
      "text/plain": [
       "<Figure size 576x576 with 2 Axes>"
      ]
     },
     "metadata": {
      "needs_background": "light"
     },
     "output_type": "display_data"
    }
   ],
   "source": [
    "## Plot the points \n",
    "fig, ax = plt.subplots(figsize = (8, 8))\n",
    "dataset_gp.plot(ax= ax, column = 'OM', marker = 'o', markersize = 10, cmap = 'Accent', legend = True, \n",
    "               legend_kwds = {'shrink': 0.6})\n",
    "ax.set_title('SOC content (gkg)')\n",
    "plt.xlabel('Long')\n",
    "plt.ylabel('Lat')\n",
    "plt.show()"
   ]
  },
  {
   "cell_type": "code",
   "execution_count": 135,
   "id": "7a24c479",
   "metadata": {},
   "outputs": [
    {
     "data": {
      "text/html": [
       "<div style=\"width:100%;\"><div style=\"position:relative;width:100%;height:0;padding-bottom:60%;\"><span style=\"color:#565656\">Make this Notebook Trusted to load map: File -> Trust Notebook</span><iframe srcdoc=\"&lt;!DOCTYPE html&gt;\n",
       "&lt;head&gt;    \n",
       "    &lt;meta http-equiv=&quot;content-type&quot; content=&quot;text/html; charset=UTF-8&quot; /&gt;\n",
       "    \n",
       "        &lt;script&gt;\n",
       "            L_NO_TOUCH = false;\n",
       "            L_DISABLE_3D = false;\n",
       "        &lt;/script&gt;\n",
       "    \n",
       "    &lt;style&gt;html, body {width: 100%;height: 100%;margin: 0;padding: 0;}&lt;/style&gt;\n",
       "    &lt;style&gt;#map {position:absolute;top:0;bottom:0;right:0;left:0;}&lt;/style&gt;\n",
       "    &lt;script src=&quot;https://cdn.jsdelivr.net/npm/leaflet@1.6.0/dist/leaflet.js&quot;&gt;&lt;/script&gt;\n",
       "    &lt;script src=&quot;https://code.jquery.com/jquery-1.12.4.min.js&quot;&gt;&lt;/script&gt;\n",
       "    &lt;script src=&quot;https://maxcdn.bootstrapcdn.com/bootstrap/3.2.0/js/bootstrap.min.js&quot;&gt;&lt;/script&gt;\n",
       "    &lt;script src=&quot;https://cdnjs.cloudflare.com/ajax/libs/Leaflet.awesome-markers/2.0.2/leaflet.awesome-markers.js&quot;&gt;&lt;/script&gt;\n",
       "    &lt;link rel=&quot;stylesheet&quot; href=&quot;https://cdn.jsdelivr.net/npm/leaflet@1.6.0/dist/leaflet.css&quot;/&gt;\n",
       "    &lt;link rel=&quot;stylesheet&quot; href=&quot;https://maxcdn.bootstrapcdn.com/bootstrap/3.2.0/css/bootstrap.min.css&quot;/&gt;\n",
       "    &lt;link rel=&quot;stylesheet&quot; href=&quot;https://maxcdn.bootstrapcdn.com/bootstrap/3.2.0/css/bootstrap-theme.min.css&quot;/&gt;\n",
       "    &lt;link rel=&quot;stylesheet&quot; href=&quot;https://maxcdn.bootstrapcdn.com/font-awesome/4.6.3/css/font-awesome.min.css&quot;/&gt;\n",
       "    &lt;link rel=&quot;stylesheet&quot; href=&quot;https://cdnjs.cloudflare.com/ajax/libs/Leaflet.awesome-markers/2.0.2/leaflet.awesome-markers.css&quot;/&gt;\n",
       "    &lt;link rel=&quot;stylesheet&quot; href=&quot;https://cdn.jsdelivr.net/gh/python-visualization/folium/folium/templates/leaflet.awesome.rotate.min.css&quot;/&gt;\n",
       "    \n",
       "            &lt;meta name=&quot;viewport&quot; content=&quot;width=device-width,\n",
       "                initial-scale=1.0, maximum-scale=1.0, user-scalable=no&quot; /&gt;\n",
       "            &lt;style&gt;\n",
       "                #map_e1ef2075a6375873b4e8695451dc989d {\n",
       "                    position: relative;\n",
       "                    width: 100.0%;\n",
       "                    height: 100.0%;\n",
       "                    left: 0.0%;\n",
       "                    top: 0.0%;\n",
       "                }\n",
       "            &lt;/style&gt;\n",
       "        \n",
       "&lt;/head&gt;\n",
       "&lt;body&gt;    \n",
       "    \n",
       "            &lt;div class=&quot;folium-map&quot; id=&quot;map_e1ef2075a6375873b4e8695451dc989d&quot; &gt;&lt;/div&gt;\n",
       "        \n",
       "&lt;/body&gt;\n",
       "&lt;script&gt;    \n",
       "    \n",
       "            var map_e1ef2075a6375873b4e8695451dc989d = L.map(\n",
       "                &quot;map_e1ef2075a6375873b4e8695451dc989d&quot;,\n",
       "                {\n",
       "                    center: [-22.84, -47.4],\n",
       "                    crs: L.CRS.EPSG3857,\n",
       "                    zoom: 12,\n",
       "                    zoomControl: true,\n",
       "                    preferCanvas: false,\n",
       "                }\n",
       "            );\n",
       "\n",
       "            \n",
       "\n",
       "        \n",
       "    \n",
       "            var tile_layer_2c9ad25a1fec0dd1a3cad8b098300878 = L.tileLayer(\n",
       "                &quot;https://{s}.tile.openstreetmap.org/{z}/{x}/{y}.png&quot;,\n",
       "                {&quot;attribution&quot;: &quot;Data by \\u0026copy; \\u003ca href=\\&quot;http://openstreetmap.org\\&quot;\\u003eOpenStreetMap\\u003c/a\\u003e, under \\u003ca href=\\&quot;http://www.openstreetmap.org/copyright\\&quot;\\u003eODbL\\u003c/a\\u003e.&quot;, &quot;detectRetina&quot;: false, &quot;maxNativeZoom&quot;: 18, &quot;maxZoom&quot;: 18, &quot;minZoom&quot;: 0, &quot;noWrap&quot;: false, &quot;opacity&quot;: 1, &quot;subdomains&quot;: &quot;abc&quot;, &quot;tms&quot;: false}\n",
       "            ).addTo(map_e1ef2075a6375873b4e8695451dc989d);\n",
       "        \n",
       "    \n",
       "\n",
       "        function geo_json_61dfec8740ced1c60e3458e2102cf484_onEachFeature(feature, layer) {\n",
       "            layer.on({\n",
       "            });\n",
       "        };\n",
       "        var geo_json_61dfec8740ced1c60e3458e2102cf484 = L.geoJson(null, {\n",
       "                onEachFeature: geo_json_61dfec8740ced1c60e3458e2102cf484_onEachFeature,\n",
       "            \n",
       "        });\n",
       "\n",
       "        function geo_json_61dfec8740ced1c60e3458e2102cf484_add (data) {\n",
       "            geo_json_61dfec8740ced1c60e3458e2102cf484\n",
       "                .addData(data)\n",
       "                .addTo(map_e1ef2075a6375873b4e8695451dc989d);\n",
       "        }\n",
       "            geo_json_61dfec8740ced1c60e3458e2102cf484_add({&quot;bbox&quot;: [-47.45700036, -22.9073597, -47.34592408, -22.77340888], &quot;features&quot;: [{&quot;bbox&quot;: [-47.43159128, -22.77340888, -47.43159128, -22.77340888], &quot;geometry&quot;: {&quot;coordinates&quot;: [-47.43159128, -22.77340888], &quot;type&quot;: &quot;Point&quot;}, &quot;id&quot;: &quot;0&quot;, &quot;properties&quot;: {}, &quot;type&quot;: &quot;Feature&quot;}, {&quot;bbox&quot;: [-47.4494351, -22.84190839, -47.4494351, -22.84190839], &quot;geometry&quot;: {&quot;coordinates&quot;: [-47.4494351, -22.84190839], &quot;type&quot;: &quot;Point&quot;}, &quot;id&quot;: &quot;1&quot;, &quot;properties&quot;: {}, &quot;type&quot;: &quot;Feature&quot;}, {&quot;bbox&quot;: [-47.3782099, -22.85607156, -47.3782099, -22.85607156], &quot;geometry&quot;: {&quot;coordinates&quot;: [-47.3782099, -22.85607156], &quot;type&quot;: &quot;Point&quot;}, &quot;id&quot;: &quot;2&quot;, &quot;properties&quot;: {}, &quot;type&quot;: &quot;Feature&quot;}, {&quot;bbox&quot;: [-47.37597243, -22.86442968, -47.37597243, -22.86442968], &quot;geometry&quot;: {&quot;coordinates&quot;: [-47.37597243, -22.86442968], &quot;type&quot;: &quot;Point&quot;}, &quot;id&quot;: &quot;3&quot;, &quot;properties&quot;: {}, &quot;type&quot;: &quot;Feature&quot;}, {&quot;bbox&quot;: [-47.37297297, -22.86819175, -47.37297297, -22.86819175], &quot;geometry&quot;: {&quot;coordinates&quot;: [-47.37297297, -22.86819175], &quot;type&quot;: &quot;Point&quot;}, &quot;id&quot;: &quot;4&quot;, &quot;properties&quot;: {}, &quot;type&quot;: &quot;Feature&quot;}, {&quot;bbox&quot;: [-47.37587613, -22.87197417, -47.37587613, -22.87197417], &quot;geometry&quot;: {&quot;coordinates&quot;: [-47.37587613, -22.87197417], &quot;type&quot;: &quot;Point&quot;}, &quot;id&quot;: &quot;5&quot;, &quot;properties&quot;: {}, &quot;type&quot;: &quot;Feature&quot;}, {&quot;bbox&quot;: [-47.34963988, -22.90188102, -47.34963988, -22.90188102], &quot;geometry&quot;: {&quot;coordinates&quot;: [-47.34963988, -22.90188102], &quot;type&quot;: &quot;Point&quot;}, &quot;id&quot;: &quot;6&quot;, &quot;properties&quot;: {}, &quot;type&quot;: &quot;Feature&quot;}, {&quot;bbox&quot;: [-47.44847887, -22.8763793, -47.44847887, -22.8763793], &quot;geometry&quot;: {&quot;coordinates&quot;: [-47.44847887, -22.8763793], &quot;type&quot;: &quot;Point&quot;}, &quot;id&quot;: &quot;7&quot;, &quot;properties&quot;: {}, &quot;type&quot;: &quot;Feature&quot;}, {&quot;bbox&quot;: [-47.43850489, -22.88125525, -47.43850489, -22.88125525], &quot;geometry&quot;: {&quot;coordinates&quot;: [-47.43850489, -22.88125525], &quot;type&quot;: &quot;Point&quot;}, &quot;id&quot;: &quot;8&quot;, &quot;properties&quot;: {}, &quot;type&quot;: &quot;Feature&quot;}, {&quot;bbox&quot;: [-47.44197637, -22.88507411, -47.44197637, -22.88507411], &quot;geometry&quot;: {&quot;coordinates&quot;: [-47.44197637, -22.88507411], &quot;type&quot;: &quot;Point&quot;}, &quot;id&quot;: &quot;9&quot;, &quot;properties&quot;: {}, &quot;type&quot;: &quot;Feature&quot;}, {&quot;bbox&quot;: [-47.43733262, -22.89031992, -47.43733262, -22.89031992], &quot;geometry&quot;: {&quot;coordinates&quot;: [-47.43733262, -22.89031992], &quot;type&quot;: &quot;Point&quot;}, &quot;id&quot;: &quot;10&quot;, &quot;properties&quot;: {}, &quot;type&quot;: &quot;Feature&quot;}, {&quot;bbox&quot;: [-47.43249352, -22.88918745, -47.43249352, -22.88918745], &quot;geometry&quot;: {&quot;coordinates&quot;: [-47.43249352, -22.88918745], &quot;type&quot;: &quot;Point&quot;}, &quot;id&quot;: &quot;11&quot;, &quot;properties&quot;: {}, &quot;type&quot;: &quot;Feature&quot;}, {&quot;bbox&quot;: [-47.4211799, -22.89688787, -47.4211799, -22.89688787], &quot;geometry&quot;: {&quot;coordinates&quot;: [-47.4211799, -22.89688787], &quot;type&quot;: &quot;Point&quot;}, &quot;id&quot;: &quot;12&quot;, &quot;properties&quot;: {}, &quot;type&quot;: &quot;Feature&quot;}, {&quot;bbox&quot;: [-47.41284641, -22.89837894, -47.41284641, -22.89837894], &quot;geometry&quot;: {&quot;coordinates&quot;: [-47.41284641, -22.89837894], &quot;type&quot;: &quot;Point&quot;}, &quot;id&quot;: &quot;13&quot;, &quot;properties&quot;: {}, &quot;type&quot;: &quot;Feature&quot;}, {&quot;bbox&quot;: [-47.40183041, -22.90225724, -47.40183041, -22.90225724], &quot;geometry&quot;: {&quot;coordinates&quot;: [-47.40183041, -22.90225724], &quot;type&quot;: &quot;Point&quot;}, &quot;id&quot;: &quot;14&quot;, &quot;properties&quot;: {}, &quot;type&quot;: &quot;Feature&quot;}, {&quot;bbox&quot;: [-47.40752985, -22.8954223, -47.40752985, -22.8954223], &quot;geometry&quot;: {&quot;coordinates&quot;: [-47.40752985, -22.8954223], &quot;type&quot;: &quot;Point&quot;}, &quot;id&quot;: &quot;15&quot;, &quot;properties&quot;: {}, &quot;type&quot;: &quot;Feature&quot;}, {&quot;bbox&quot;: [-47.44189416, -22.89752605, -47.44189416, -22.89752605], &quot;geometry&quot;: {&quot;coordinates&quot;: [-47.44189416, -22.89752605], &quot;type&quot;: &quot;Point&quot;}, &quot;id&quot;: &quot;16&quot;, &quot;properties&quot;: {}, &quot;type&quot;: &quot;Feature&quot;}, {&quot;bbox&quot;: [-47.4464343, -22.90621188, -47.4464343, -22.90621188], &quot;geometry&quot;: {&quot;coordinates&quot;: [-47.4464343, -22.90621188], &quot;type&quot;: &quot;Point&quot;}, &quot;id&quot;: &quot;17&quot;, &quot;properties&quot;: {}, &quot;type&quot;: &quot;Feature&quot;}, {&quot;bbox&quot;: [-47.45699194, -22.90496512, -47.45699194, -22.90496512], &quot;geometry&quot;: {&quot;coordinates&quot;: [-47.45699194, -22.90496512], &quot;type&quot;: &quot;Point&quot;}, &quot;id&quot;: &quot;18&quot;, &quot;properties&quot;: {}, &quot;type&quot;: &quot;Feature&quot;}, {&quot;bbox&quot;: [-47.45479438, -22.89847451, -47.45479438, -22.89847451], &quot;geometry&quot;: {&quot;coordinates&quot;: [-47.45479438, -22.89847451], &quot;type&quot;: &quot;Point&quot;}, &quot;id&quot;: &quot;19&quot;, &quot;properties&quot;: {}, &quot;type&quot;: &quot;Feature&quot;}, {&quot;bbox&quot;: [-47.44995695, -22.89962001, -47.44995695, -22.89962001], &quot;geometry&quot;: {&quot;coordinates&quot;: [-47.44995695, -22.89962001], &quot;type&quot;: &quot;Point&quot;}, &quot;id&quot;: &quot;20&quot;, &quot;properties&quot;: {}, &quot;type&quot;: &quot;Feature&quot;}, {&quot;bbox&quot;: [-47.44979248, -22.89274758, -47.44979248, -22.89274758], &quot;geometry&quot;: {&quot;coordinates&quot;: [-47.44979248, -22.89274758], &quot;type&quot;: &quot;Point&quot;}, &quot;id&quot;: &quot;21&quot;, &quot;properties&quot;: {}, &quot;type&quot;: &quot;Feature&quot;}, {&quot;bbox&quot;: [-47.45227755, -22.88726732, -47.45227755, -22.88726732], &quot;geometry&quot;: {&quot;coordinates&quot;: [-47.45227755, -22.88726732], &quot;type&quot;: &quot;Point&quot;}, &quot;id&quot;: &quot;22&quot;, &quot;properties&quot;: {}, &quot;type&quot;: &quot;Feature&quot;}, {&quot;bbox&quot;: [-47.3968927, -22.78417496, -47.3968927, -22.78417496], &quot;geometry&quot;: {&quot;coordinates&quot;: [-47.3968927, -22.78417496], &quot;type&quot;: &quot;Point&quot;}, &quot;id&quot;: &quot;23&quot;, &quot;properties&quot;: {}, &quot;type&quot;: &quot;Feature&quot;}, {&quot;bbox&quot;: [-47.39127297, -22.7824211, -47.39127297, -22.7824211], &quot;geometry&quot;: {&quot;coordinates&quot;: [-47.39127297, -22.7824211], &quot;type&quot;: &quot;Point&quot;}, &quot;id&quot;: &quot;24&quot;, &quot;properties&quot;: {}, &quot;type&quot;: &quot;Feature&quot;}, {&quot;bbox&quot;: [-47.39217361, -22.78631911, -47.39217361, -22.78631911], &quot;geometry&quot;: {&quot;coordinates&quot;: [-47.39217361, -22.78631911], &quot;type&quot;: &quot;Point&quot;}, &quot;id&quot;: &quot;25&quot;, &quot;properties&quot;: {}, &quot;type&quot;: &quot;Feature&quot;}, {&quot;bbox&quot;: [-47.3867133, -22.7861135, -47.3867133, -22.7861135], &quot;geometry&quot;: {&quot;coordinates&quot;: [-47.3867133, -22.7861135], &quot;type&quot;: &quot;Point&quot;}, &quot;id&quot;: &quot;26&quot;, &quot;properties&quot;: {}, &quot;type&quot;: &quot;Feature&quot;}, {&quot;bbox&quot;: [-47.39412566, -22.79011779, -47.39412566, -22.79011779], &quot;geometry&quot;: {&quot;coordinates&quot;: [-47.39412566, -22.79011779], &quot;type&quot;: &quot;Point&quot;}, &quot;id&quot;: &quot;27&quot;, &quot;properties&quot;: {}, &quot;type&quot;: &quot;Feature&quot;}, {&quot;bbox&quot;: [-47.38862059, -22.78948933, -47.38862059, -22.78948933], &quot;geometry&quot;: {&quot;coordinates&quot;: [-47.38862059, -22.78948933], &quot;type&quot;: &quot;Point&quot;}, &quot;id&quot;: &quot;28&quot;, &quot;properties&quot;: {}, &quot;type&quot;: &quot;Feature&quot;}, {&quot;bbox&quot;: [-47.38352657, -22.79444344, -47.38352657, -22.79444344], &quot;geometry&quot;: {&quot;coordinates&quot;: [-47.38352657, -22.79444344], &quot;type&quot;: &quot;Point&quot;}, &quot;id&quot;: &quot;29&quot;, &quot;properties&quot;: {}, &quot;type&quot;: &quot;Feature&quot;}, {&quot;bbox&quot;: [-47.37868317, -22.79917342, -47.37868317, -22.79917342], &quot;geometry&quot;: {&quot;coordinates&quot;: [-47.37868317, -22.79917342], &quot;type&quot;: &quot;Point&quot;}, &quot;id&quot;: &quot;30&quot;, &quot;properties&quot;: {}, &quot;type&quot;: &quot;Feature&quot;}, {&quot;bbox&quot;: [-47.37504789, -22.7949605, -47.37504789, -22.7949605], &quot;geometry&quot;: {&quot;coordinates&quot;: [-47.37504789, -22.7949605], &quot;type&quot;: &quot;Point&quot;}, &quot;id&quot;: &quot;31&quot;, &quot;properties&quot;: {}, &quot;type&quot;: &quot;Feature&quot;}, {&quot;bbox&quot;: [-47.37708769, -22.79172082, -47.37708769, -22.79172082], &quot;geometry&quot;: {&quot;coordinates&quot;: [-47.37708769, -22.79172082], &quot;type&quot;: &quot;Point&quot;}, &quot;id&quot;: &quot;32&quot;, &quot;properties&quot;: {}, &quot;type&quot;: &quot;Feature&quot;}, {&quot;bbox&quot;: [-47.37776152, -22.78690902, -47.37776152, -22.78690902], &quot;geometry&quot;: {&quot;coordinates&quot;: [-47.37776152, -22.78690902], &quot;type&quot;: &quot;Point&quot;}, &quot;id&quot;: &quot;33&quot;, &quot;properties&quot;: {}, &quot;type&quot;: &quot;Feature&quot;}, {&quot;bbox&quot;: [-47.36874871, -22.78967471, -47.36874871, -22.78967471], &quot;geometry&quot;: {&quot;coordinates&quot;: [-47.36874871, -22.78967471], &quot;type&quot;: &quot;Point&quot;}, &quot;id&quot;: &quot;34&quot;, &quot;properties&quot;: {}, &quot;type&quot;: &quot;Feature&quot;}, {&quot;bbox&quot;: [-47.37314603, -22.79879534, -47.37314603, -22.79879534], &quot;geometry&quot;: {&quot;coordinates&quot;: [-47.37314603, -22.79879534], &quot;type&quot;: &quot;Point&quot;}, &quot;id&quot;: &quot;35&quot;, &quot;properties&quot;: {}, &quot;type&quot;: &quot;Feature&quot;}, {&quot;bbox&quot;: [-47.3671167, -22.79874167, -47.3671167, -22.79874167], &quot;geometry&quot;: {&quot;coordinates&quot;: [-47.3671167, -22.79874167], &quot;type&quot;: &quot;Point&quot;}, &quot;id&quot;: &quot;36&quot;, &quot;properties&quot;: {}, &quot;type&quot;: &quot;Feature&quot;}, {&quot;bbox&quot;: [-47.37594867, -22.80448402, -47.37594867, -22.80448402], &quot;geometry&quot;: {&quot;coordinates&quot;: [-47.37594867, -22.80448402], &quot;type&quot;: &quot;Point&quot;}, &quot;id&quot;: &quot;37&quot;, &quot;properties&quot;: {}, &quot;type&quot;: &quot;Feature&quot;}, {&quot;bbox&quot;: [-47.37574266, -22.80899502, -47.37574266, -22.80899502], &quot;geometry&quot;: {&quot;coordinates&quot;: [-47.37574266, -22.80899502], &quot;type&quot;: &quot;Point&quot;}, &quot;id&quot;: &quot;38&quot;, &quot;properties&quot;: {}, &quot;type&quot;: &quot;Feature&quot;}, {&quot;bbox&quot;: [-47.37042809, -22.81537194, -47.37042809, -22.81537194], &quot;geometry&quot;: {&quot;coordinates&quot;: [-47.37042809, -22.81537194], &quot;type&quot;: &quot;Point&quot;}, &quot;id&quot;: &quot;39&quot;, &quot;properties&quot;: {}, &quot;type&quot;: &quot;Feature&quot;}, {&quot;bbox&quot;: [-47.38001892, -22.80925266, -47.38001892, -22.80925266], &quot;geometry&quot;: {&quot;coordinates&quot;: [-47.38001892, -22.80925266], &quot;type&quot;: &quot;Point&quot;}, &quot;id&quot;: &quot;40&quot;, &quot;properties&quot;: {}, &quot;type&quot;: &quot;Feature&quot;}, {&quot;bbox&quot;: [-47.38447465, -22.80352396, -47.38447465, -22.80352396], &quot;geometry&quot;: {&quot;coordinates&quot;: [-47.38447465, -22.80352396], &quot;type&quot;: &quot;Point&quot;}, &quot;id&quot;: &quot;41&quot;, &quot;properties&quot;: {}, &quot;type&quot;: &quot;Feature&quot;}, {&quot;bbox&quot;: [-47.38781786, -22.80379076, -47.38781786, -22.80379076], &quot;geometry&quot;: {&quot;coordinates&quot;: [-47.38781786, -22.80379076], &quot;type&quot;: &quot;Point&quot;}, &quot;id&quot;: &quot;42&quot;, &quot;properties&quot;: {}, &quot;type&quot;: &quot;Feature&quot;}, {&quot;bbox&quot;: [-47.39152543, -22.79587355, -47.39152543, -22.79587355], &quot;geometry&quot;: {&quot;coordinates&quot;: [-47.39152543, -22.79587355], &quot;type&quot;: &quot;Point&quot;}, &quot;id&quot;: &quot;43&quot;, &quot;properties&quot;: {}, &quot;type&quot;: &quot;Feature&quot;}, {&quot;bbox&quot;: [-47.39559003, -22.79862854, -47.39559003, -22.79862854], &quot;geometry&quot;: {&quot;coordinates&quot;: [-47.39559003, -22.79862854], &quot;type&quot;: &quot;Point&quot;}, &quot;id&quot;: &quot;44&quot;, &quot;properties&quot;: {}, &quot;type&quot;: &quot;Feature&quot;}, {&quot;bbox&quot;: [-47.39515537, -22.80703666, -47.39515537, -22.80703666], &quot;geometry&quot;: {&quot;coordinates&quot;: [-47.39515537, -22.80703666], &quot;type&quot;: &quot;Point&quot;}, &quot;id&quot;: &quot;45&quot;, &quot;properties&quot;: {}, &quot;type&quot;: &quot;Feature&quot;}, {&quot;bbox&quot;: [-47.3868249, -22.86223684, -47.3868249, -22.86223684], &quot;geometry&quot;: {&quot;coordinates&quot;: [-47.3868249, -22.86223684], &quot;type&quot;: &quot;Point&quot;}, &quot;id&quot;: &quot;46&quot;, &quot;properties&quot;: {}, &quot;type&quot;: &quot;Feature&quot;}, {&quot;bbox&quot;: [-47.38161228, -22.8577766, -47.38161228, -22.8577766], &quot;geometry&quot;: {&quot;coordinates&quot;: [-47.38161228, -22.8577766], &quot;type&quot;: &quot;Point&quot;}, &quot;id&quot;: &quot;47&quot;, &quot;properties&quot;: {}, &quot;type&quot;: &quot;Feature&quot;}, {&quot;bbox&quot;: [-47.40541111, -22.82087898, -47.40541111, -22.82087898], &quot;geometry&quot;: {&quot;coordinates&quot;: [-47.40541111, -22.82087898], &quot;type&quot;: &quot;Point&quot;}, &quot;id&quot;: &quot;48&quot;, &quot;properties&quot;: {}, &quot;type&quot;: &quot;Feature&quot;}, {&quot;bbox&quot;: [-47.40190507, -22.81858732, -47.40190507, -22.81858732], &quot;geometry&quot;: {&quot;coordinates&quot;: [-47.40190507, -22.81858732], &quot;type&quot;: &quot;Point&quot;}, &quot;id&quot;: &quot;49&quot;, &quot;properties&quot;: {}, &quot;type&quot;: &quot;Feature&quot;}, {&quot;bbox&quot;: [-47.40020102, -22.81823476, -47.40020102, -22.81823476], &quot;geometry&quot;: {&quot;coordinates&quot;: [-47.40020102, -22.81823476], &quot;type&quot;: &quot;Point&quot;}, &quot;id&quot;: &quot;50&quot;, &quot;properties&quot;: {}, &quot;type&quot;: &quot;Feature&quot;}, {&quot;bbox&quot;: [-47.40170921, -22.82567775, -47.40170921, -22.82567775], &quot;geometry&quot;: {&quot;coordinates&quot;: [-47.40170921, -22.82567775], &quot;type&quot;: &quot;Point&quot;}, &quot;id&quot;: &quot;51&quot;, &quot;properties&quot;: {}, &quot;type&quot;: &quot;Feature&quot;}, {&quot;bbox&quot;: [-47.40351119, -22.82416956, -47.40351119, -22.82416956], &quot;geometry&quot;: {&quot;coordinates&quot;: [-47.40351119, -22.82416956], &quot;type&quot;: &quot;Point&quot;}, &quot;id&quot;: &quot;52&quot;, &quot;properties&quot;: {}, &quot;type&quot;: &quot;Feature&quot;}, {&quot;bbox&quot;: [-47.39366994, -22.8293086, -47.39366994, -22.8293086], &quot;geometry&quot;: {&quot;coordinates&quot;: [-47.39366994, -22.8293086], &quot;type&quot;: &quot;Point&quot;}, &quot;id&quot;: &quot;53&quot;, &quot;properties&quot;: {}, &quot;type&quot;: &quot;Feature&quot;}, {&quot;bbox&quot;: [-47.39068889, -22.82731831, -47.39068889, -22.82731831], &quot;geometry&quot;: {&quot;coordinates&quot;: [-47.39068889, -22.82731831], &quot;type&quot;: &quot;Point&quot;}, &quot;id&quot;: &quot;54&quot;, &quot;properties&quot;: {}, &quot;type&quot;: &quot;Feature&quot;}, {&quot;bbox&quot;: [-47.38975749, -22.83186305, -47.38975749, -22.83186305], &quot;geometry&quot;: {&quot;coordinates&quot;: [-47.38975749, -22.83186305], &quot;type&quot;: &quot;Point&quot;}, &quot;id&quot;: &quot;55&quot;, &quot;properties&quot;: {}, &quot;type&quot;: &quot;Feature&quot;}, {&quot;bbox&quot;: [-47.39128704, -22.83550029, -47.39128704, -22.83550029], &quot;geometry&quot;: {&quot;coordinates&quot;: [-47.39128704, -22.83550029], &quot;type&quot;: &quot;Point&quot;}, &quot;id&quot;: &quot;56&quot;, &quot;properties&quot;: {}, &quot;type&quot;: &quot;Feature&quot;}, {&quot;bbox&quot;: [-47.3907562, -22.82938376, -47.3907562, -22.82938376], &quot;geometry&quot;: {&quot;coordinates&quot;: [-47.3907562, -22.82938376], &quot;type&quot;: &quot;Point&quot;}, &quot;id&quot;: &quot;57&quot;, &quot;properties&quot;: {}, &quot;type&quot;: &quot;Feature&quot;}, {&quot;bbox&quot;: [-47.39281228, -22.83465139, -47.39281228, -22.83465139], &quot;geometry&quot;: {&quot;coordinates&quot;: [-47.39281228, -22.83465139], &quot;type&quot;: &quot;Point&quot;}, &quot;id&quot;: &quot;58&quot;, &quot;properties&quot;: {}, &quot;type&quot;: &quot;Feature&quot;}, {&quot;bbox&quot;: [-47.3936879, -22.83186888, -47.3936879, -22.83186888], &quot;geometry&quot;: {&quot;coordinates&quot;: [-47.3936879, -22.83186888], &quot;type&quot;: &quot;Point&quot;}, &quot;id&quot;: &quot;59&quot;, &quot;properties&quot;: {}, &quot;type&quot;: &quot;Feature&quot;}, {&quot;bbox&quot;: [-47.39181521, -22.85061904, -47.39181521, -22.85061904], &quot;geometry&quot;: {&quot;coordinates&quot;: [-47.39181521, -22.85061904], &quot;type&quot;: &quot;Point&quot;}, &quot;id&quot;: &quot;60&quot;, &quot;properties&quot;: {}, &quot;type&quot;: &quot;Feature&quot;}, {&quot;bbox&quot;: [-47.39054566, -22.85391037, -47.39054566, -22.85391037], &quot;geometry&quot;: {&quot;coordinates&quot;: [-47.39054566, -22.85391037], &quot;type&quot;: &quot;Point&quot;}, &quot;id&quot;: &quot;61&quot;, &quot;properties&quot;: {}, &quot;type&quot;: &quot;Feature&quot;}, {&quot;bbox&quot;: [-47.38367132, -22.85700367, -47.38367132, -22.85700367], &quot;geometry&quot;: {&quot;coordinates&quot;: [-47.38367132, -22.85700367], &quot;type&quot;: &quot;Point&quot;}, &quot;id&quot;: &quot;62&quot;, &quot;properties&quot;: {}, &quot;type&quot;: &quot;Feature&quot;}, {&quot;bbox&quot;: [-47.39017415, -22.84777443, -47.39017415, -22.84777443], &quot;geometry&quot;: {&quot;coordinates&quot;: [-47.39017415, -22.84777443], &quot;type&quot;: &quot;Point&quot;}, &quot;id&quot;: &quot;63&quot;, &quot;properties&quot;: {}, &quot;type&quot;: &quot;Feature&quot;}, {&quot;bbox&quot;: [-47.38669246, -22.85687472, -47.38669246, -22.85687472], &quot;geometry&quot;: {&quot;coordinates&quot;: [-47.38669246, -22.85687472], &quot;type&quot;: &quot;Point&quot;}, &quot;id&quot;: &quot;64&quot;, &quot;properties&quot;: {}, &quot;type&quot;: &quot;Feature&quot;}, {&quot;bbox&quot;: [-47.38641614, -22.85309828, -47.38641614, -22.85309828], &quot;geometry&quot;: {&quot;coordinates&quot;: [-47.38641614, -22.85309828], &quot;type&quot;: &quot;Point&quot;}, &quot;id&quot;: &quot;65&quot;, &quot;properties&quot;: {}, &quot;type&quot;: &quot;Feature&quot;}, {&quot;bbox&quot;: [-47.38658193, -22.84965344, -47.38658193, -22.84965344], &quot;geometry&quot;: {&quot;coordinates&quot;: [-47.38658193, -22.84965344], &quot;type&quot;: &quot;Point&quot;}, &quot;id&quot;: &quot;66&quot;, &quot;properties&quot;: {}, &quot;type&quot;: &quot;Feature&quot;}, {&quot;bbox&quot;: [-47.3903031, -22.85648786, -47.3903031, -22.85648786], &quot;geometry&quot;: {&quot;coordinates&quot;: [-47.3903031, -22.85648786], &quot;type&quot;: &quot;Point&quot;}, &quot;id&quot;: &quot;67&quot;, &quot;properties&quot;: {}, &quot;type&quot;: &quot;Feature&quot;}, {&quot;bbox&quot;: [-47.39415323, -22.84891657, -47.39415323, -22.84891657], &quot;geometry&quot;: {&quot;coordinates&quot;: [-47.39415323, -22.84891657], &quot;type&quot;: &quot;Point&quot;}, &quot;id&quot;: &quot;68&quot;, &quot;properties&quot;: {}, &quot;type&quot;: &quot;Feature&quot;}, {&quot;bbox&quot;: [-47.39547958, -22.85241668, -47.39547958, -22.85241668], &quot;geometry&quot;: {&quot;coordinates&quot;: [-47.39547958, -22.85241668], &quot;type&quot;: &quot;Point&quot;}, &quot;id&quot;: &quot;69&quot;, &quot;properties&quot;: {}, &quot;type&quot;: &quot;Feature&quot;}, {&quot;bbox&quot;: [-47.39339794, -22.85547467, -47.39339794, -22.85547467], &quot;geometry&quot;: {&quot;coordinates&quot;: [-47.39339794, -22.85547467], &quot;type&quot;: &quot;Point&quot;}, &quot;id&quot;: &quot;70&quot;, &quot;properties&quot;: {}, &quot;type&quot;: &quot;Feature&quot;}, {&quot;bbox&quot;: [-47.38950698, -22.8514843, -47.38950698, -22.8514843], &quot;geometry&quot;: {&quot;coordinates&quot;: [-47.38950698, -22.8514843], &quot;type&quot;: &quot;Point&quot;}, &quot;id&quot;: &quot;71&quot;, &quot;properties&quot;: {}, &quot;type&quot;: &quot;Feature&quot;}, {&quot;bbox&quot;: [-47.37022797, -22.90641433, -47.37022797, -22.90641433], &quot;geometry&quot;: {&quot;coordinates&quot;: [-47.37022797, -22.90641433], &quot;type&quot;: &quot;Point&quot;}, &quot;id&quot;: &quot;72&quot;, &quot;properties&quot;: {}, &quot;type&quot;: &quot;Feature&quot;}, {&quot;bbox&quot;: [-47.37095971, -22.90314764, -47.37095971, -22.90314764], &quot;geometry&quot;: {&quot;coordinates&quot;: [-47.37095971, -22.90314764], &quot;type&quot;: &quot;Point&quot;}, &quot;id&quot;: &quot;73&quot;, &quot;properties&quot;: {}, &quot;type&quot;: &quot;Feature&quot;}, {&quot;bbox&quot;: [-47.37095971, -22.90095242, -47.37095971, -22.90095242], &quot;geometry&quot;: {&quot;coordinates&quot;: [-47.37095971, -22.90095242], &quot;type&quot;: &quot;Point&quot;}, &quot;id&quot;: &quot;74&quot;, &quot;properties&quot;: {}, &quot;type&quot;: &quot;Feature&quot;}, {&quot;bbox&quot;: [-47.3700189, -22.89695399, -47.3700189, -22.89695399], &quot;geometry&quot;: {&quot;coordinates&quot;: [-47.3700189, -22.89695399], &quot;type&quot;: &quot;Point&quot;}, &quot;id&quot;: &quot;75&quot;, &quot;properties&quot;: {}, &quot;type&quot;: &quot;Feature&quot;}, {&quot;bbox&quot;: [-47.36865996, -22.90434978, -47.36865996, -22.90434978], &quot;geometry&quot;: {&quot;coordinates&quot;: [-47.36865996, -22.90434978], &quot;type&quot;: &quot;Point&quot;}, &quot;id&quot;: &quot;76&quot;, &quot;properties&quot;: {}, &quot;type&quot;: &quot;Feature&quot;}, {&quot;bbox&quot;: [-47.37276292, -22.90095242, -47.37276292, -22.90095242], &quot;geometry&quot;: {&quot;coordinates&quot;: [-47.37276292, -22.90095242], &quot;type&quot;: &quot;Point&quot;}, &quot;id&quot;: &quot;77&quot;, &quot;properties&quot;: {}, &quot;type&quot;: &quot;Feature&quot;}, {&quot;bbox&quot;: [-47.37409574, -22.9029647, -47.37409574, -22.9029647], &quot;geometry&quot;: {&quot;coordinates&quot;: [-47.37409574, -22.9029647], &quot;type&quot;: &quot;Point&quot;}, &quot;id&quot;: &quot;78&quot;, &quot;properties&quot;: {}, &quot;type&quot;: &quot;Feature&quot;}, {&quot;bbox&quot;: [-47.37357306, -22.90607459, -47.37357306, -22.90607459], &quot;geometry&quot;: {&quot;coordinates&quot;: [-47.37357306, -22.90607459], &quot;type&quot;: &quot;Point&quot;}, &quot;id&quot;: &quot;79&quot;, &quot;properties&quot;: {}, &quot;type&quot;: &quot;Feature&quot;}, {&quot;bbox&quot;: [-47.36845089, -22.89839134, -47.36845089, -22.89839134], &quot;geometry&quot;: {&quot;coordinates&quot;: [-47.36845089, -22.89839134], &quot;type&quot;: &quot;Point&quot;}, &quot;id&quot;: &quot;80&quot;, &quot;properties&quot;: {}, &quot;type&quot;: &quot;Feature&quot;}, {&quot;bbox&quot;: [-47.37816268, -22.9073597, -47.37816268, -22.9073597], &quot;geometry&quot;: {&quot;coordinates&quot;: [-47.37816268, -22.9073597], &quot;type&quot;: &quot;Point&quot;}, &quot;id&quot;: &quot;81&quot;, &quot;properties&quot;: {}, &quot;type&quot;: &quot;Feature&quot;}, {&quot;bbox&quot;: [-47.37648975, -22.90526631, -47.37648975, -22.90526631], &quot;geometry&quot;: {&quot;coordinates&quot;: [-47.37648975, -22.90526631], &quot;type&quot;: &quot;Point&quot;}, &quot;id&quot;: &quot;82&quot;, &quot;properties&quot;: {}, &quot;type&quot;: &quot;Feature&quot;}, {&quot;bbox&quot;: [-47.35196563, -22.88765932, -47.35196563, -22.88765932], &quot;geometry&quot;: {&quot;coordinates&quot;: [-47.35196563, -22.88765932], &quot;type&quot;: &quot;Point&quot;}, &quot;id&quot;: &quot;83&quot;, &quot;properties&quot;: {}, &quot;type&quot;: &quot;Feature&quot;}, {&quot;bbox&quot;: [-47.3499308, -22.88734466, -47.3499308, -22.88734466], &quot;geometry&quot;: {&quot;coordinates&quot;: [-47.3499308, -22.88734466], &quot;type&quot;: &quot;Point&quot;}, &quot;id&quot;: &quot;84&quot;, &quot;properties&quot;: {}, &quot;type&quot;: &quot;Feature&quot;}, {&quot;bbox&quot;: [-47.34850432, -22.88654751, -47.34850432, -22.88654751], &quot;geometry&quot;: {&quot;coordinates&quot;: [-47.34850432, -22.88654751], &quot;type&quot;: &quot;Point&quot;}, &quot;id&quot;: &quot;85&quot;, &quot;properties&quot;: {}, &quot;type&quot;: &quot;Feature&quot;}, {&quot;bbox&quot;: [-47.3531194, -22.88602307, -47.3531194, -22.88602307], &quot;geometry&quot;: {&quot;coordinates&quot;: [-47.3531194, -22.88602307], &quot;type&quot;: &quot;Point&quot;}, &quot;id&quot;: &quot;86&quot;, &quot;properties&quot;: {}, &quot;type&quot;: &quot;Feature&quot;}, {&quot;bbox&quot;: [-47.34963711, -22.88910678, -47.34963711, -22.88910678], &quot;geometry&quot;: {&quot;coordinates&quot;: [-47.34963711, -22.88910678], &quot;type&quot;: &quot;Point&quot;}, &quot;id&quot;: &quot;87&quot;, &quot;properties&quot;: {}, &quot;type&quot;: &quot;Feature&quot;}, {&quot;bbox&quot;: [-47.34592408, -22.88942144, -47.34592408, -22.88942144], &quot;geometry&quot;: {&quot;coordinates&quot;: [-47.34592408, -22.88942144], &quot;type&quot;: &quot;Point&quot;}, &quot;id&quot;: &quot;88&quot;, &quot;properties&quot;: {}, &quot;type&quot;: &quot;Feature&quot;}, {&quot;bbox&quot;: [-47.3479589, -22.88367358, -47.3479589, -22.88367358], &quot;geometry&quot;: {&quot;coordinates&quot;: [-47.3479589, -22.88367358], &quot;type&quot;: &quot;Point&quot;}, &quot;id&quot;: &quot;89&quot;, &quot;properties&quot;: {}, &quot;type&quot;: &quot;Feature&quot;}, {&quot;bbox&quot;: [-47.35026644, -22.88623285, -47.35026644, -22.88623285], &quot;geometry&quot;: {&quot;coordinates&quot;: [-47.35026644, -22.88623285], &quot;type&quot;: &quot;Point&quot;}, &quot;id&quot;: &quot;90&quot;, &quot;properties&quot;: {}, &quot;type&quot;: &quot;Feature&quot;}, {&quot;bbox&quot;: [-47.34848335, -22.89133041, -47.34848335, -22.89133041], &quot;geometry&quot;: {&quot;coordinates&quot;: [-47.34848335, -22.89133041], &quot;type&quot;: &quot;Point&quot;}, &quot;id&quot;: &quot;91&quot;, &quot;properties&quot;: {}, &quot;type&quot;: &quot;Feature&quot;}, {&quot;bbox&quot;: [-47.44922935, -22.90564743, -47.44922935, -22.90564743], &quot;geometry&quot;: {&quot;coordinates&quot;: [-47.44922935, -22.90564743], &quot;type&quot;: &quot;Point&quot;}, &quot;id&quot;: &quot;92&quot;, &quot;properties&quot;: {}, &quot;type&quot;: &quot;Feature&quot;}, {&quot;bbox&quot;: [-47.37583897, -22.89863015, -47.37583897, -22.89863015], &quot;geometry&quot;: {&quot;coordinates&quot;: [-47.37583897, -22.89863015], &quot;type&quot;: &quot;Point&quot;}, &quot;id&quot;: &quot;93&quot;, &quot;properties&quot;: {}, &quot;type&quot;: &quot;Feature&quot;}, {&quot;bbox&quot;: [-47.37957974, -22.89683936, -47.37957974, -22.89683936], &quot;geometry&quot;: {&quot;coordinates&quot;: [-47.37957974, -22.89683936], &quot;type&quot;: &quot;Point&quot;}, &quot;id&quot;: &quot;94&quot;, &quot;properties&quot;: {}, &quot;type&quot;: &quot;Feature&quot;}, {&quot;bbox&quot;: [-47.38849392, -22.9052163, -47.38849392, -22.9052163], &quot;geometry&quot;: {&quot;coordinates&quot;: [-47.38849392, -22.9052163], &quot;type&quot;: &quot;Point&quot;}, &quot;id&quot;: &quot;95&quot;, &quot;properties&quot;: {}, &quot;type&quot;: &quot;Feature&quot;}, {&quot;bbox&quot;: [-47.38596691, -22.90231123, -47.38596691, -22.90231123], &quot;geometry&quot;: {&quot;coordinates&quot;: [-47.38596691, -22.90231123], &quot;type&quot;: &quot;Point&quot;}, &quot;id&quot;: &quot;96&quot;, &quot;properties&quot;: {}, &quot;type&quot;: &quot;Feature&quot;}, {&quot;bbox&quot;: [-47.38320112, -22.90107757, -47.38320112, -22.90107757], &quot;geometry&quot;: {&quot;coordinates&quot;: [-47.38320112, -22.90107757], &quot;type&quot;: &quot;Point&quot;}, &quot;id&quot;: &quot;97&quot;, &quot;properties&quot;: {}, &quot;type&quot;: &quot;Feature&quot;}, {&quot;bbox&quot;: [-47.38178839, -22.89940616, -47.38178839, -22.89940616], &quot;geometry&quot;: {&quot;coordinates&quot;: [-47.38178839, -22.89940616], &quot;type&quot;: &quot;Point&quot;}, &quot;id&quot;: &quot;98&quot;, &quot;properties&quot;: {}, &quot;type&quot;: &quot;Feature&quot;}, {&quot;bbox&quot;: [-47.38027616, -22.90157501, -47.38027616, -22.90157501], &quot;geometry&quot;: {&quot;coordinates&quot;: [-47.38027616, -22.90157501], &quot;type&quot;: &quot;Point&quot;}, &quot;id&quot;: &quot;99&quot;, &quot;properties&quot;: {}, &quot;type&quot;: &quot;Feature&quot;}, {&quot;bbox&quot;: [-47.37810731, -22.90165461, -47.37810731, -22.90165461], &quot;geometry&quot;: {&quot;coordinates&quot;: [-47.37810731, -22.90165461], &quot;type&quot;: &quot;Point&quot;}, &quot;id&quot;: &quot;100&quot;, &quot;properties&quot;: {}, &quot;type&quot;: &quot;Feature&quot;}, {&quot;bbox&quot;: [-47.37396858, -22.89747608, -47.37396858, -22.89747608], &quot;geometry&quot;: {&quot;coordinates&quot;: [-47.37396858, -22.89747608], &quot;type&quot;: &quot;Point&quot;}, &quot;id&quot;: &quot;101&quot;, &quot;properties&quot;: {}, &quot;type&quot;: &quot;Feature&quot;}, {&quot;bbox&quot;: [-47.36130311, -22.89210947, -47.36130311, -22.89210947], &quot;geometry&quot;: {&quot;coordinates&quot;: [-47.36130311, -22.89210947], &quot;type&quot;: &quot;Point&quot;}, &quot;id&quot;: &quot;102&quot;, &quot;properties&quot;: {}, &quot;type&quot;: &quot;Feature&quot;}, {&quot;bbox&quot;: [-47.3591878, -22.89056586, -47.3591878, -22.89056586], &quot;geometry&quot;: {&quot;coordinates&quot;: [-47.3591878, -22.89056586], &quot;type&quot;: &quot;Point&quot;}, &quot;id&quot;: &quot;103&quot;, &quot;properties&quot;: {}, &quot;type&quot;: &quot;Feature&quot;}, {&quot;bbox&quot;: [-47.35572898, -22.88839338, -47.35572898, -22.88839338], &quot;geometry&quot;: {&quot;coordinates&quot;: [-47.35572898, -22.88839338], &quot;type&quot;: &quot;Point&quot;}, &quot;id&quot;: &quot;104&quot;, &quot;properties&quot;: {}, &quot;type&quot;: &quot;Feature&quot;}, {&quot;bbox&quot;: [-47.35864468, -22.89562546, -47.35864468, -22.89562546], &quot;geometry&quot;: {&quot;coordinates&quot;: [-47.35864468, -22.89562546], &quot;type&quot;: &quot;Point&quot;}, &quot;id&quot;: &quot;105&quot;, &quot;properties&quot;: {}, &quot;type&quot;: &quot;Feature&quot;}, {&quot;bbox&quot;: [-47.35487142, -22.89591131, -47.35487142, -22.89591131], &quot;geometry&quot;: {&quot;coordinates&quot;: [-47.35487142, -22.89591131], &quot;type&quot;: &quot;Point&quot;}, &quot;id&quot;: &quot;106&quot;, &quot;properties&quot;: {}, &quot;type&quot;: &quot;Feature&quot;}, {&quot;bbox&quot;: [-47.36084575, -22.88959396, -47.36084575, -22.88959396], &quot;geometry&quot;: {&quot;coordinates&quot;: [-47.36084575, -22.88959396], &quot;type&quot;: &quot;Point&quot;}, &quot;id&quot;: &quot;107&quot;, &quot;properties&quot;: {}, &quot;type&quot;: &quot;Feature&quot;}, {&quot;bbox&quot;: [-47.36021687, -22.88647817, -47.36021687, -22.88647817], &quot;geometry&quot;: {&quot;coordinates&quot;: [-47.36021687, -22.88647817], &quot;type&quot;: &quot;Point&quot;}, &quot;id&quot;: &quot;108&quot;, &quot;properties&quot;: {}, &quot;type&quot;: &quot;Feature&quot;}, {&quot;bbox&quot;: [-47.35584332, -22.88999416, -47.35584332, -22.88999416], &quot;geometry&quot;: {&quot;coordinates&quot;: [-47.35584332, -22.88999416], &quot;type&quot;: &quot;Point&quot;}, &quot;id&quot;: &quot;109&quot;, &quot;properties&quot;: {}, &quot;type&quot;: &quot;Feature&quot;}, {&quot;bbox&quot;: [-47.45402671, -22.81790796, -47.45402671, -22.81790796], &quot;geometry&quot;: {&quot;coordinates&quot;: [-47.45402671, -22.81790796], &quot;type&quot;: &quot;Point&quot;}, &quot;id&quot;: &quot;110&quot;, &quot;properties&quot;: {}, &quot;type&quot;: &quot;Feature&quot;}, {&quot;bbox&quot;: [-47.45425287, -22.82624582, -47.45425287, -22.82624582], &quot;geometry&quot;: {&quot;coordinates&quot;: [-47.45425287, -22.82624582], &quot;type&quot;: &quot;Point&quot;}, &quot;id&quot;: &quot;111&quot;, &quot;properties&quot;: {}, &quot;type&quot;: &quot;Feature&quot;}, {&quot;bbox&quot;: [-47.36379309, -22.88213084, -47.36379309, -22.88213084], &quot;geometry&quot;: {&quot;coordinates&quot;: [-47.36379309, -22.88213084], &quot;type&quot;: &quot;Point&quot;}, &quot;id&quot;: &quot;112&quot;, &quot;properties&quot;: {}, &quot;type&quot;: &quot;Feature&quot;}, {&quot;bbox&quot;: [-47.35866727, -22.88072651, -47.35866727, -22.88072651], &quot;geometry&quot;: {&quot;coordinates&quot;: [-47.35866727, -22.88072651], &quot;type&quot;: &quot;Point&quot;}, &quot;id&quot;: &quot;113&quot;, &quot;properties&quot;: {}, &quot;type&quot;: &quot;Feature&quot;}, {&quot;bbox&quot;: [-47.35548996, -22.88286812, -47.35548996, -22.88286812], &quot;geometry&quot;: {&quot;coordinates&quot;: [-47.35548996, -22.88286812], &quot;type&quot;: &quot;Point&quot;}, &quot;id&quot;: &quot;114&quot;, &quot;properties&quot;: {}, &quot;type&quot;: &quot;Feature&quot;}, {&quot;bbox&quot;: [-47.35810553, -22.88379849, -47.35810553, -22.88379849], &quot;geometry&quot;: {&quot;coordinates&quot;: [-47.35810553, -22.88379849], &quot;type&quot;: &quot;Point&quot;}, &quot;id&quot;: &quot;115&quot;, &quot;properties&quot;: {}, &quot;type&quot;: &quot;Feature&quot;}, {&quot;bbox&quot;: [-47.36883113, -22.87489853, -47.36883113, -22.87489853], &quot;geometry&quot;: {&quot;coordinates&quot;: [-47.36883113, -22.87489853], &quot;type&quot;: &quot;Point&quot;}, &quot;id&quot;: &quot;116&quot;, &quot;properties&quot;: {}, &quot;type&quot;: &quot;Feature&quot;}, {&quot;bbox&quot;: [-47.36142327, -22.87507407, -47.36142327, -22.87507407], &quot;geometry&quot;: {&quot;coordinates&quot;: [-47.36142327, -22.87507407], &quot;type&quot;: &quot;Point&quot;}, &quot;id&quot;: &quot;117&quot;, &quot;properties&quot;: {}, &quot;type&quot;: &quot;Feature&quot;}, {&quot;bbox&quot;: [-47.36140572, -22.88144623, -47.36140572, -22.88144623], &quot;geometry&quot;: {&quot;coordinates&quot;: [-47.36140572, -22.88144623], &quot;type&quot;: &quot;Point&quot;}, &quot;id&quot;: &quot;118&quot;, &quot;properties&quot;: {}, &quot;type&quot;: &quot;Feature&quot;}, {&quot;bbox&quot;: [-47.36440748, -22.87610976, -47.36440748, -22.87610976], &quot;geometry&quot;: {&quot;coordinates&quot;: [-47.36440748, -22.87610976], &quot;type&quot;: &quot;Point&quot;}, &quot;id&quot;: &quot;119&quot;, &quot;properties&quot;: {}, &quot;type&quot;: &quot;Feature&quot;}, {&quot;bbox&quot;: [-47.42766864, -22.90098671, -47.42766864, -22.90098671], &quot;geometry&quot;: {&quot;coordinates&quot;: [-47.42766864, -22.90098671], &quot;type&quot;: &quot;Point&quot;}, &quot;id&quot;: &quot;120&quot;, &quot;properties&quot;: {}, &quot;type&quot;: &quot;Feature&quot;}, {&quot;bbox&quot;: [-47.43114265, -22.90434175, -47.43114265, -22.90434175], &quot;geometry&quot;: {&quot;coordinates&quot;: [-47.43114265, -22.90434175], &quot;type&quot;: &quot;Point&quot;}, &quot;id&quot;: &quot;121&quot;, &quot;properties&quot;: {}, &quot;type&quot;: &quot;Feature&quot;}, {&quot;bbox&quot;: [-47.43130921, -22.8975127, -47.43130921, -22.8975127], &quot;geometry&quot;: {&quot;coordinates&quot;: [-47.43130921, -22.8975127], &quot;type&quot;: &quot;Point&quot;}, &quot;id&quot;: &quot;122&quot;, &quot;properties&quot;: {}, &quot;type&quot;: &quot;Feature&quot;}, {&quot;bbox&quot;: [-47.43380765, -22.89563293, -47.43380765, -22.89563293], &quot;geometry&quot;: {&quot;coordinates&quot;: [-47.43380765, -22.89563293], &quot;type&quot;: &quot;Point&quot;}, &quot;id&quot;: &quot;123&quot;, &quot;properties&quot;: {}, &quot;type&quot;: &quot;Feature&quot;}, {&quot;bbox&quot;: [-47.4304761, -22.90676979, -47.4304761, -22.90676979], &quot;geometry&quot;: {&quot;coordinates&quot;: [-47.4304761, -22.90676979], &quot;type&quot;: &quot;Point&quot;}, &quot;id&quot;: &quot;124&quot;, &quot;properties&quot;: {}, &quot;type&quot;: &quot;Feature&quot;}, {&quot;bbox&quot;: [-47.42657379, -22.90527073, -47.42657379, -22.90527073], &quot;geometry&quot;: {&quot;coordinates&quot;: [-47.42657379, -22.90527073], &quot;type&quot;: &quot;Point&quot;}, &quot;id&quot;: &quot;125&quot;, &quot;properties&quot;: {}, &quot;type&quot;: &quot;Feature&quot;}, {&quot;bbox&quot;: [-47.42367084, -22.9058656, -47.42367084, -22.9058656], &quot;geometry&quot;: {&quot;coordinates&quot;: [-47.42367084, -22.9058656], &quot;type&quot;: &quot;Point&quot;}, &quot;id&quot;: &quot;126&quot;, &quot;properties&quot;: {}, &quot;type&quot;: &quot;Feature&quot;}, {&quot;bbox&quot;: [-47.41967335, -22.90164602, -47.41967335, -22.90164602], &quot;geometry&quot;: {&quot;coordinates&quot;: [-47.41967335, -22.90164602], &quot;type&quot;: &quot;Point&quot;}, &quot;id&quot;: &quot;127&quot;, &quot;properties&quot;: {}, &quot;type&quot;: &quot;Feature&quot;}, {&quot;bbox&quot;: [-47.40890629, -22.90497727, -47.40890629, -22.90497727], &quot;geometry&quot;: {&quot;coordinates&quot;: [-47.40890629, -22.90497727], &quot;type&quot;: &quot;Point&quot;}, &quot;id&quot;: &quot;128&quot;, &quot;properties&quot;: {}, &quot;type&quot;: &quot;Feature&quot;}, {&quot;bbox&quot;: [-47.39995357, -22.90586956, -47.39995357, -22.90586956], &quot;geometry&quot;: {&quot;coordinates&quot;: [-47.39995357, -22.90586956], &quot;type&quot;: &quot;Point&quot;}, &quot;id&quot;: &quot;129&quot;, &quot;properties&quot;: {}, &quot;type&quot;: &quot;Feature&quot;}, {&quot;bbox&quot;: [-47.41907848, -22.90664289, -47.41907848, -22.90664289], &quot;geometry&quot;: {&quot;coordinates&quot;: [-47.41907848, -22.90664289], &quot;type&quot;: &quot;Point&quot;}, &quot;id&quot;: &quot;130&quot;, &quot;properties&quot;: {}, &quot;type&quot;: &quot;Feature&quot;}, {&quot;bbox&quot;: [-47.41530109, -22.90343062, -47.41530109, -22.90343062], &quot;geometry&quot;: {&quot;coordinates&quot;: [-47.41530109, -22.90343062], &quot;type&quot;: &quot;Point&quot;}, &quot;id&quot;: &quot;131&quot;, &quot;properties&quot;: {}, &quot;type&quot;: &quot;Feature&quot;}, {&quot;bbox&quot;: [-47.42273691, -22.90203268, -47.42273691, -22.90203268], &quot;geometry&quot;: {&quot;coordinates&quot;: [-47.42273691, -22.90203268], &quot;type&quot;: &quot;Point&quot;}, &quot;id&quot;: &quot;132&quot;, &quot;properties&quot;: {}, &quot;type&quot;: &quot;Feature&quot;}, {&quot;bbox&quot;: [-47.44878915, -22.8296556, -47.44878915, -22.8296556], &quot;geometry&quot;: {&quot;coordinates&quot;: [-47.44878915, -22.8296556], &quot;type&quot;: &quot;Point&quot;}, &quot;id&quot;: &quot;133&quot;, &quot;properties&quot;: {}, &quot;type&quot;: &quot;Feature&quot;}, {&quot;bbox&quot;: [-47.44176244, -22.83425307, -47.44176244, -22.83425307], &quot;geometry&quot;: {&quot;coordinates&quot;: [-47.44176244, -22.83425307], &quot;type&quot;: &quot;Point&quot;}, &quot;id&quot;: &quot;134&quot;, &quot;properties&quot;: {}, &quot;type&quot;: &quot;Feature&quot;}, {&quot;bbox&quot;: [-47.44957212, -22.83545765, -47.44957212, -22.83545765], &quot;geometry&quot;: {&quot;coordinates&quot;: [-47.44957212, -22.83545765], &quot;type&quot;: &quot;Point&quot;}, &quot;id&quot;: &quot;135&quot;, &quot;properties&quot;: {}, &quot;type&quot;: &quot;Feature&quot;}, {&quot;bbox&quot;: [-47.44549663, -22.83593948, -47.44549663, -22.83593948], &quot;geometry&quot;: {&quot;coordinates&quot;: [-47.44549663, -22.83593948], &quot;type&quot;: &quot;Point&quot;}, &quot;id&quot;: &quot;136&quot;, &quot;properties&quot;: {}, &quot;type&quot;: &quot;Feature&quot;}, {&quot;bbox&quot;: [-47.44824709, -22.84306657, -47.44824709, -22.84306657], &quot;geometry&quot;: {&quot;coordinates&quot;: [-47.44824709, -22.84306657], &quot;type&quot;: &quot;Point&quot;}, &quot;id&quot;: &quot;137&quot;, &quot;properties&quot;: {}, &quot;type&quot;: &quot;Feature&quot;}, {&quot;bbox&quot;: [-47.45125853, -22.84292604, -47.45125853, -22.84292604], &quot;geometry&quot;: {&quot;coordinates&quot;: [-47.45125853, -22.84292604], &quot;type&quot;: &quot;Point&quot;}, &quot;id&quot;: &quot;138&quot;, &quot;properties&quot;: {}, &quot;type&quot;: &quot;Feature&quot;}, {&quot;bbox&quot;: [-47.45418967, -22.83666223, -47.45418967, -22.83666223], &quot;geometry&quot;: {&quot;coordinates&quot;: [-47.45418967, -22.83666223], &quot;type&quot;: &quot;Point&quot;}, &quot;id&quot;: &quot;139&quot;, &quot;properties&quot;: {}, &quot;type&quot;: &quot;Feature&quot;}, {&quot;bbox&quot;: [-47.45700036, -22.83923199, -47.45700036, -22.83923199], &quot;geometry&quot;: {&quot;coordinates&quot;: [-47.45700036, -22.83923199], &quot;type&quot;: &quot;Point&quot;}, &quot;id&quot;: &quot;140&quot;, &quot;properties&quot;: {}, &quot;type&quot;: &quot;Feature&quot;}, {&quot;bbox&quot;: [-47.44820693, -22.83234582, -47.44820693, -22.83234582], &quot;geometry&quot;: {&quot;coordinates&quot;: [-47.44820693, -22.83234582], &quot;type&quot;: &quot;Point&quot;}, &quot;id&quot;: &quot;141&quot;, &quot;properties&quot;: {}, &quot;type&quot;: &quot;Feature&quot;}, {&quot;bbox&quot;: [-47.4464603, -22.83868993, -47.4464603, -22.83868993], &quot;geometry&quot;: {&quot;coordinates&quot;: [-47.4464603, -22.83868993], &quot;type&quot;: &quot;Point&quot;}, &quot;id&quot;: &quot;142&quot;, &quot;properties&quot;: {}, &quot;type&quot;: &quot;Feature&quot;}, {&quot;bbox&quot;: [-47.45007403, -22.83929222, -47.45007403, -22.83929222], &quot;geometry&quot;: {&quot;coordinates&quot;: [-47.45007403, -22.83929222], &quot;type&quot;: &quot;Point&quot;}, &quot;id&quot;: &quot;143&quot;, &quot;properties&quot;: {}, &quot;type&quot;: &quot;Feature&quot;}, {&quot;bbox&quot;: [-47.45519407, -22.83210843, -47.45519407, -22.83210843], &quot;geometry&quot;: {&quot;coordinates&quot;: [-47.45519407, -22.83210843], &quot;type&quot;: &quot;Point&quot;}, &quot;id&quot;: &quot;144&quot;, &quot;properties&quot;: {}, &quot;type&quot;: &quot;Feature&quot;}, {&quot;bbox&quot;: [-47.45310015, -22.83329816, -47.45310015, -22.83329816], &quot;geometry&quot;: {&quot;coordinates&quot;: [-47.45310015, -22.83329816], &quot;type&quot;: &quot;Point&quot;}, &quot;id&quot;: &quot;145&quot;, &quot;properties&quot;: {}, &quot;type&quot;: &quot;Feature&quot;}, {&quot;bbox&quot;: [-47.45362363, -22.84186422, -47.45362363, -22.84186422], &quot;geometry&quot;: {&quot;coordinates&quot;: [-47.45362363, -22.84186422], &quot;type&quot;: &quot;Point&quot;}, &quot;id&quot;: &quot;146&quot;, &quot;properties&quot;: {}, &quot;type&quot;: &quot;Feature&quot;}, {&quot;bbox&quot;: [-47.45310015, -22.8446244, -47.45310015, -22.8446244], &quot;geometry&quot;: {&quot;coordinates&quot;: [-47.45310015, -22.8446244], &quot;type&quot;: &quot;Point&quot;}, &quot;id&quot;: &quot;147&quot;, &quot;properties&quot;: {}, &quot;type&quot;: &quot;Feature&quot;}, {&quot;bbox&quot;: [-47.45114899, -22.83172772, -47.45114899, -22.83172772], &quot;geometry&quot;: {&quot;coordinates&quot;: [-47.45114899, -22.83172772], &quot;type&quot;: &quot;Point&quot;}, &quot;id&quot;: &quot;148&quot;, &quot;properties&quot;: {}, &quot;type&quot;: &quot;Feature&quot;}, {&quot;bbox&quot;: [-47.44711231, -22.84066432, -47.44711231, -22.84066432], &quot;geometry&quot;: {&quot;coordinates&quot;: [-47.44711231, -22.84066432], &quot;type&quot;: &quot;Point&quot;}, &quot;id&quot;: &quot;149&quot;, &quot;properties&quot;: {}, &quot;type&quot;: &quot;Feature&quot;}, {&quot;bbox&quot;: [-47.39594776, -22.8406698, -47.39594776, -22.8406698], &quot;geometry&quot;: {&quot;coordinates&quot;: [-47.39594776, -22.8406698], &quot;type&quot;: &quot;Point&quot;}, &quot;id&quot;: &quot;150&quot;, &quot;properties&quot;: {}, &quot;type&quot;: &quot;Feature&quot;}, {&quot;bbox&quot;: [-47.399155, -22.84266349, -47.399155, -22.84266349], &quot;geometry&quot;: {&quot;coordinates&quot;: [-47.399155, -22.84266349], &quot;type&quot;: &quot;Point&quot;}, &quot;id&quot;: &quot;151&quot;, &quot;properties&quot;: {}, &quot;type&quot;: &quot;Feature&quot;}, {&quot;bbox&quot;: [-47.4021022, -22.84262015, -47.4021022, -22.84262015], &quot;geometry&quot;: {&quot;coordinates&quot;: [-47.4021022, -22.84262015], &quot;type&quot;: &quot;Point&quot;}, &quot;id&quot;: &quot;152&quot;, &quot;properties&quot;: {}, &quot;type&quot;: &quot;Feature&quot;}, {&quot;bbox&quot;: [-47.39924169, -22.83741921, -47.39924169, -22.83741921], &quot;geometry&quot;: {&quot;coordinates&quot;: [-47.39924169, -22.83741921], &quot;type&quot;: &quot;Point&quot;}, &quot;id&quot;: &quot;153&quot;, &quot;properties&quot;: {}, &quot;type&quot;: &quot;Feature&quot;}, {&quot;bbox&quot;: [-47.40240559, -22.83655239, -47.40240559, -22.83655239], &quot;geometry&quot;: {&quot;coordinates&quot;: [-47.40240559, -22.83655239], &quot;type&quot;: &quot;Point&quot;}, &quot;id&quot;: &quot;154&quot;, &quot;properties&quot;: {}, &quot;type&quot;: &quot;Feature&quot;}, {&quot;bbox&quot;: [-47.40322907, -22.84413709, -47.40322907, -22.84413709], &quot;geometry&quot;: {&quot;coordinates&quot;: [-47.40322907, -22.84413709], &quot;type&quot;: &quot;Point&quot;}, &quot;id&quot;: &quot;155&quot;, &quot;properties&quot;: {}, &quot;type&quot;: &quot;Feature&quot;}, {&quot;bbox&quot;: [-47.40166879, -22.84652085, -47.40166879, -22.84652085], &quot;geometry&quot;: {&quot;coordinates&quot;: [-47.40166879, -22.84652085], &quot;type&quot;: &quot;Point&quot;}, &quot;id&quot;: &quot;156&quot;, &quot;properties&quot;: {}, &quot;type&quot;: &quot;Feature&quot;}, {&quot;bbox&quot;: [-47.39850489, -22.84686758, -47.39850489, -22.84686758], &quot;geometry&quot;: {&quot;coordinates&quot;: [-47.39850489, -22.84686758], &quot;type&quot;: &quot;Point&quot;}, &quot;id&quot;: &quot;157&quot;, &quot;properties&quot;: {}, &quot;type&quot;: &quot;Feature&quot;}, {&quot;bbox&quot;: [-47.40153877, -22.839933, -47.40153877, -22.839933], &quot;geometry&quot;: {&quot;coordinates&quot;: [-47.40153877, -22.839933], &quot;type&quot;: &quot;Point&quot;}, &quot;id&quot;: &quot;158&quot;, &quot;properties&quot;: {}, &quot;type&quot;: &quot;Feature&quot;}, {&quot;bbox&quot;: [-47.40422592, -22.83988966, -47.40422592, -22.83988966], &quot;geometry&quot;: {&quot;coordinates&quot;: [-47.40422592, -22.83988966], &quot;type&quot;: &quot;Point&quot;}, &quot;id&quot;: &quot;159&quot;, &quot;properties&quot;: {}, &quot;type&quot;: &quot;Feature&quot;}, {&quot;bbox&quot;: [-47.40123538, -22.8501615, -47.40123538, -22.8501615], &quot;geometry&quot;: {&quot;coordinates&quot;: [-47.40123538, -22.8501615], &quot;type&quot;: &quot;Point&quot;}, &quot;id&quot;: &quot;160&quot;, &quot;properties&quot;: {}, &quot;type&quot;: &quot;Feature&quot;}, {&quot;bbox&quot;: [-47.41610138, -22.84092984, -47.41610138, -22.84092984], &quot;geometry&quot;: {&quot;coordinates&quot;: [-47.41610138, -22.84092984], &quot;type&quot;: &quot;Point&quot;}, &quot;id&quot;: &quot;161&quot;, &quot;properties&quot;: {}, &quot;type&quot;: &quot;Feature&quot;}, {&quot;bbox&quot;: [-47.40995643, -22.84049307, -47.40995643, -22.84049307], &quot;geometry&quot;: {&quot;coordinates&quot;: [-47.40995643, -22.84049307], &quot;type&quot;: &quot;Point&quot;}, &quot;id&quot;: &quot;162&quot;, &quot;properties&quot;: {}, &quot;type&quot;: &quot;Feature&quot;}, {&quot;bbox&quot;: [-47.40866454, -22.84192333, -47.40866454, -22.84192333], &quot;geometry&quot;: {&quot;coordinates&quot;: [-47.40866454, -22.84192333], &quot;type&quot;: &quot;Point&quot;}, &quot;id&quot;: &quot;163&quot;, &quot;properties&quot;: {}, &quot;type&quot;: &quot;Feature&quot;}, {&quot;bbox&quot;: [-47.40617309, -22.84472851, -47.40617309, -22.84472851], &quot;geometry&quot;: {&quot;coordinates&quot;: [-47.40617309, -22.84472851], &quot;type&quot;: &quot;Point&quot;}, &quot;id&quot;: &quot;164&quot;, &quot;properties&quot;: {}, &quot;type&quot;: &quot;Feature&quot;}, {&quot;bbox&quot;: [-47.40748179, -22.83628142, -47.40748179, -22.83628142], &quot;geometry&quot;: {&quot;coordinates&quot;: [-47.40748179, -22.83628142], &quot;type&quot;: &quot;Point&quot;}, &quot;id&quot;: &quot;165&quot;, &quot;properties&quot;: {}, &quot;type&quot;: &quot;Feature&quot;}, {&quot;bbox&quot;: [-47.41214553, -22.8390178, -47.41214553, -22.8390178], &quot;geometry&quot;: {&quot;coordinates&quot;: [-47.41214553, -22.8390178], &quot;type&quot;: &quot;Point&quot;}, &quot;id&quot;: &quot;166&quot;, &quot;properties&quot;: {}, &quot;type&quot;: &quot;Feature&quot;}, {&quot;bbox&quot;: [-47.41497709, -22.84446677, -47.41497709, -22.84446677], &quot;geometry&quot;: {&quot;coordinates&quot;: [-47.41497709, -22.84446677], &quot;type&quot;: &quot;Point&quot;}, &quot;id&quot;: &quot;167&quot;, &quot;properties&quot;: {}, &quot;type&quot;: &quot;Feature&quot;}, {&quot;bbox&quot;: [-47.41885561, -22.84294391, -47.41885561, -22.84294391], &quot;geometry&quot;: {&quot;coordinates&quot;: [-47.41885561, -22.84294391], &quot;type&quot;: &quot;Point&quot;}, &quot;id&quot;: &quot;168&quot;, &quot;properties&quot;: {}, &quot;type&quot;: &quot;Feature&quot;}, {&quot;bbox&quot;: [-47.41876043, -22.83875606, -47.41876043, -22.83875606], &quot;geometry&quot;: {&quot;coordinates&quot;: [-47.41876043, -22.83875606], &quot;type&quot;: &quot;Point&quot;}, &quot;id&quot;: &quot;169&quot;, &quot;properties&quot;: {}, &quot;type&quot;: &quot;Feature&quot;}, {&quot;bbox&quot;: [-47.41490571, -22.83544861, -47.41490571, -22.83544861], &quot;geometry&quot;: {&quot;coordinates&quot;: [-47.41490571, -22.83544861], &quot;type&quot;: &quot;Point&quot;}, &quot;id&quot;: &quot;170&quot;, &quot;properties&quot;: {}, &quot;type&quot;: &quot;Feature&quot;}, {&quot;bbox&quot;: [-47.41221692, -22.83440165, -47.41221692, -22.83440165], &quot;geometry&quot;: {&quot;coordinates&quot;: [-47.41221692, -22.83440165], &quot;type&quot;: &quot;Point&quot;}, &quot;id&quot;: &quot;171&quot;, &quot;properties&quot;: {}, &quot;type&quot;: &quot;Feature&quot;}, {&quot;bbox&quot;: [-47.41145549, -22.84558511, -47.41145549, -22.84558511], &quot;geometry&quot;: {&quot;coordinates&quot;: [-47.41145549, -22.84558511], &quot;type&quot;: &quot;Point&quot;}, &quot;id&quot;: &quot;172&quot;, &quot;properties&quot;: {}, &quot;type&quot;: &quot;Feature&quot;}, {&quot;bbox&quot;: [-47.40405537, -22.83744736, -47.40405537, -22.83744736], &quot;geometry&quot;: {&quot;coordinates&quot;: [-47.40405537, -22.83744736], &quot;type&quot;: &quot;Point&quot;}, &quot;id&quot;: &quot;173&quot;, &quot;properties&quot;: {}, &quot;type&quot;: &quot;Feature&quot;}, {&quot;bbox&quot;: [-47.417634, -22.85045277, -47.417634, -22.85045277], &quot;geometry&quot;: {&quot;coordinates&quot;: [-47.417634, -22.85045277], &quot;type&quot;: &quot;Point&quot;}, &quot;id&quot;: &quot;174&quot;, &quot;properties&quot;: {}, &quot;type&quot;: &quot;Feature&quot;}, {&quot;bbox&quot;: [-47.42400775, -22.84958786, -47.42400775, -22.84958786], &quot;geometry&quot;: {&quot;coordinates&quot;: [-47.42400775, -22.84958786], &quot;type&quot;: &quot;Point&quot;}, &quot;id&quot;: &quot;175&quot;, &quot;properties&quot;: {}, &quot;type&quot;: &quot;Feature&quot;}, {&quot;bbox&quot;: [-47.42722003, -22.84818992, -47.42722003, -22.84818992], &quot;geometry&quot;: {&quot;coordinates&quot;: [-47.42722003, -22.84818992], &quot;type&quot;: &quot;Point&quot;}, &quot;id&quot;: &quot;176&quot;, &quot;properties&quot;: {}, &quot;type&quot;: &quot;Feature&quot;}, {&quot;bbox&quot;: [-47.42710105, -22.84491816, -47.42710105, -22.84491816], &quot;geometry&quot;: {&quot;coordinates&quot;: [-47.42710105, -22.84491816], &quot;type&quot;: &quot;Point&quot;}, &quot;id&quot;: &quot;177&quot;, &quot;properties&quot;: {}, &quot;type&quot;: &quot;Feature&quot;}, {&quot;bbox&quot;: [-47.42653593, -22.83935617, -47.42653593, -22.83935617], &quot;geometry&quot;: {&quot;coordinates&quot;: [-47.42653593, -22.83935617], &quot;type&quot;: &quot;Point&quot;}, &quot;id&quot;: &quot;178&quot;, &quot;properties&quot;: {}, &quot;type&quot;: &quot;Feature&quot;}, {&quot;bbox&quot;: [-47.43209792, -22.84381766, -47.43209792, -22.84381766], &quot;geometry&quot;: {&quot;coordinates&quot;: [-47.43209792, -22.84381766], &quot;type&quot;: &quot;Point&quot;}, &quot;id&quot;: &quot;179&quot;, &quot;properties&quot;: {}, &quot;type&quot;: &quot;Feature&quot;}, {&quot;bbox&quot;: [-47.43489379, -22.84798172, -47.43489379, -22.84798172], &quot;geometry&quot;: {&quot;coordinates&quot;: [-47.43489379, -22.84798172], &quot;type&quot;: &quot;Point&quot;}, &quot;id&quot;: &quot;180&quot;, &quot;properties&quot;: {}, &quot;type&quot;: &quot;Feature&quot;}, {&quot;bbox&quot;: [-47.42394827, -22.85300833, -47.42394827, -22.85300833], &quot;geometry&quot;: {&quot;coordinates&quot;: [-47.42394827, -22.85300833], &quot;type&quot;: &quot;Point&quot;}, &quot;id&quot;: &quot;181&quot;, &quot;properties&quot;: {}, &quot;type&quot;: &quot;Feature&quot;}, {&quot;bbox&quot;: [-47.42174727, -22.84896325, -47.42174727, -22.84896325], &quot;geometry&quot;: {&quot;coordinates&quot;: [-47.42174727, -22.84896325], &quot;type&quot;: &quot;Point&quot;}, &quot;id&quot;: &quot;182&quot;, &quot;properties&quot;: {}, &quot;type&quot;: &quot;Feature&quot;}, {&quot;bbox&quot;: [-47.42216367, -22.8447397, -47.42216367, -22.8447397], &quot;geometry&quot;: {&quot;coordinates&quot;: [-47.42216367, -22.8447397], &quot;type&quot;: &quot;Point&quot;}, &quot;id&quot;: &quot;183&quot;, &quot;properties&quot;: {}, &quot;type&quot;: &quot;Feature&quot;}, {&quot;bbox&quot;: [-47.42287751, -22.84069462, -47.42287751, -22.84069462], &quot;geometry&quot;: {&quot;coordinates&quot;: [-47.42287751, -22.84069462], &quot;type&quot;: &quot;Point&quot;}, &quot;id&quot;: &quot;184&quot;, &quot;properties&quot;: {}, &quot;type&quot;: &quot;Feature&quot;}, {&quot;bbox&quot;: [-47.42159855, -22.83873156, -47.42159855, -22.83873156], &quot;geometry&quot;: {&quot;coordinates&quot;: [-47.42159855, -22.83873156], &quot;type&quot;: &quot;Point&quot;}, &quot;id&quot;: &quot;185&quot;, &quot;properties&quot;: {}, &quot;type&quot;: &quot;Feature&quot;}, {&quot;bbox&quot;: [-47.43514958, -22.85105122, -47.43514958, -22.85105122], &quot;geometry&quot;: {&quot;coordinates&quot;: [-47.43514958, -22.85105122], &quot;type&quot;: &quot;Point&quot;}, &quot;id&quot;: &quot;186&quot;, &quot;properties&quot;: {}, &quot;type&quot;: &quot;Feature&quot;}, {&quot;bbox&quot;: [-47.42859179, -22.8407196, -47.42859179, -22.8407196], &quot;geometry&quot;: {&quot;coordinates&quot;: [-47.42859179, -22.8407196], &quot;type&quot;: &quot;Point&quot;}, &quot;id&quot;: &quot;187&quot;, &quot;properties&quot;: {}, &quot;type&quot;: &quot;Feature&quot;}, {&quot;bbox&quot;: [-47.45567481, -22.85472868, -47.45567481, -22.85472868], &quot;geometry&quot;: {&quot;coordinates&quot;: [-47.45567481, -22.85472868], &quot;type&quot;: &quot;Point&quot;}, &quot;id&quot;: &quot;188&quot;, &quot;properties&quot;: {}, &quot;type&quot;: &quot;Feature&quot;}, {&quot;bbox&quot;: [-47.45196285, -22.85010301, -47.45196285, -22.85010301], &quot;geometry&quot;: {&quot;coordinates&quot;: [-47.45196285, -22.85010301], &quot;type&quot;: &quot;Point&quot;}, &quot;id&quot;: &quot;189&quot;, &quot;properties&quot;: {}, &quot;type&quot;: &quot;Feature&quot;}, {&quot;bbox&quot;: [-47.45047807, -22.84604841, -47.45047807, -22.84604841], &quot;geometry&quot;: {&quot;coordinates&quot;: [-47.45047807, -22.84604841], &quot;type&quot;: &quot;Point&quot;}, &quot;id&quot;: &quot;190&quot;, &quot;properties&quot;: {}, &quot;type&quot;: &quot;Feature&quot;}, {&quot;bbox&quot;: [-47.43831426, -22.8476474, -47.43831426, -22.8476474], &quot;geometry&quot;: {&quot;coordinates&quot;: [-47.43831426, -22.8476474], &quot;type&quot;: &quot;Point&quot;}, &quot;id&quot;: &quot;191&quot;, &quot;properties&quot;: {}, &quot;type&quot;: &quot;Feature&quot;}, {&quot;bbox&quot;: [-47.45204299, -22.85527212, -47.45204299, -22.85527212], &quot;geometry&quot;: {&quot;coordinates&quot;: [-47.45204299, -22.85527212], &quot;type&quot;: &quot;Point&quot;}, &quot;id&quot;: &quot;192&quot;, &quot;properties&quot;: {}, &quot;type&quot;: &quot;Feature&quot;}, {&quot;bbox&quot;: [-47.45460728, -22.8490235, -47.45460728, -22.8490235], &quot;geometry&quot;: {&quot;coordinates&quot;: [-47.45460728, -22.8490235], &quot;type&quot;: &quot;Point&quot;}, &quot;id&quot;: &quot;193&quot;, &quot;properties&quot;: {}, &quot;type&quot;: &quot;Feature&quot;}, {&quot;bbox&quot;: [-47.45257353, -22.85892697, -47.45257353, -22.85892697], &quot;geometry&quot;: {&quot;coordinates&quot;: [-47.45257353, -22.85892697], &quot;type&quot;: &quot;Point&quot;}, &quot;id&quot;: &quot;194&quot;, &quot;properties&quot;: {}, &quot;type&quot;: &quot;Feature&quot;}, {&quot;bbox&quot;: [-47.44956712, -22.86331869, -47.44956712, -22.86331869], &quot;geometry&quot;: {&quot;coordinates&quot;: [-47.44956712, -22.86331869], &quot;type&quot;: &quot;Point&quot;}, &quot;id&quot;: &quot;195&quot;, &quot;properties&quot;: {}, &quot;type&quot;: &quot;Feature&quot;}, {&quot;bbox&quot;: [-47.45236721, -22.86638405, -47.45236721, -22.86638405], &quot;geometry&quot;: {&quot;coordinates&quot;: [-47.45236721, -22.86638405], &quot;type&quot;: &quot;Point&quot;}, &quot;id&quot;: &quot;196&quot;, &quot;properties&quot;: {}, &quot;type&quot;: &quot;Feature&quot;}, {&quot;bbox&quot;: [-47.45625786, -22.85951646, -47.45625786, -22.85951646], &quot;geometry&quot;: {&quot;coordinates&quot;: [-47.45625786, -22.85951646], &quot;type&quot;: &quot;Point&quot;}, &quot;id&quot;: &quot;197&quot;, &quot;properties&quot;: {}, &quot;type&quot;: &quot;Feature&quot;}, {&quot;bbox&quot;: [-47.45631681, -22.86544086, -47.45631681, -22.86544086], &quot;geometry&quot;: {&quot;coordinates&quot;: [-47.45631681, -22.86544086], &quot;type&quot;: &quot;Point&quot;}, &quot;id&quot;: &quot;198&quot;, &quot;properties&quot;: {}, &quot;type&quot;: &quot;Feature&quot;}, {&quot;bbox&quot;: [-47.45631681, -22.85176464, -47.45631681, -22.85176464], &quot;geometry&quot;: {&quot;coordinates&quot;: [-47.45631681, -22.85176464], &quot;type&quot;: &quot;Point&quot;}, &quot;id&quot;: &quot;199&quot;, &quot;properties&quot;: {}, &quot;type&quot;: &quot;Feature&quot;}, {&quot;bbox&quot;: [-47.41703992, -22.87940435, -47.41703992, -22.87940435], &quot;geometry&quot;: {&quot;coordinates&quot;: [-47.41703992, -22.87940435], &quot;type&quot;: &quot;Point&quot;}, &quot;id&quot;: &quot;200&quot;, &quot;properties&quot;: {}, &quot;type&quot;: &quot;Feature&quot;}, {&quot;bbox&quot;: [-47.41898711, -22.88270945, -47.41898711, -22.88270945], &quot;geometry&quot;: {&quot;coordinates&quot;: [-47.41898711, -22.88270945], &quot;type&quot;: &quot;Point&quot;}, &quot;id&quot;: &quot;201&quot;, &quot;properties&quot;: {}, &quot;type&quot;: &quot;Feature&quot;}, {&quot;bbox&quot;: [-47.41967887, -22.88714186, -47.41967887, -22.88714186], &quot;geometry&quot;: {&quot;coordinates&quot;: [-47.41967887, -22.88714186], &quot;type&quot;: &quot;Point&quot;}, &quot;id&quot;: &quot;202&quot;, &quot;properties&quot;: {}, &quot;type&quot;: &quot;Feature&quot;}, {&quot;bbox&quot;: [-47.4303884, -22.88560461, -47.4303884, -22.88560461], &quot;geometry&quot;: {&quot;coordinates&quot;: [-47.4303884, -22.88560461], &quot;type&quot;: &quot;Point&quot;}, &quot;id&quot;: &quot;203&quot;, &quot;properties&quot;: {}, &quot;type&quot;: &quot;Feature&quot;}, {&quot;bbox&quot;: [-47.42580226, -22.88588644, -47.42580226, -22.88588644], &quot;geometry&quot;: {&quot;coordinates&quot;: [-47.42580226, -22.88588644], &quot;type&quot;: &quot;Point&quot;}, &quot;id&quot;: &quot;204&quot;, &quot;properties&quot;: {}, &quot;type&quot;: &quot;Feature&quot;}, {&quot;bbox&quot;: [-47.42646841, -22.88375991, -47.42646841, -22.88375991], &quot;geometry&quot;: {&quot;coordinates&quot;: [-47.42646841, -22.88375991], &quot;type&quot;: &quot;Point&quot;}, &quot;id&quot;: &quot;205&quot;, &quot;properties&quot;: {}, &quot;type&quot;: &quot;Feature&quot;}, {&quot;bbox&quot;: [-47.42431625, -22.87796958, -47.42431625, -22.87796958], &quot;geometry&quot;: {&quot;coordinates&quot;: [-47.42431625, -22.87796958], &quot;type&quot;: &quot;Point&quot;}, &quot;id&quot;: &quot;206&quot;, &quot;properties&quot;: {}, &quot;type&quot;: &quot;Feature&quot;}, {&quot;bbox&quot;: [-47.42926108, -22.8783539, -47.42926108, -22.8783539], &quot;geometry&quot;: {&quot;coordinates&quot;: [-47.42926108, -22.8783539], &quot;type&quot;: &quot;Point&quot;}, &quot;id&quot;: &quot;207&quot;, &quot;properties&quot;: {}, &quot;type&quot;: &quot;Feature&quot;}, {&quot;bbox&quot;: [-47.42767259, -22.87584305, -47.42767259, -22.87584305], &quot;geometry&quot;: {&quot;coordinates&quot;: [-47.42767259, -22.87584305], &quot;type&quot;: &quot;Point&quot;}, &quot;id&quot;: &quot;208&quot;, &quot;properties&quot;: {}, &quot;type&quot;: &quot;Feature&quot;}, {&quot;bbox&quot;: [-47.42272776, -22.88091599, -47.42272776, -22.88091599], &quot;geometry&quot;: {&quot;coordinates&quot;: [-47.42272776, -22.88091599], &quot;type&quot;: &quot;Point&quot;}, &quot;id&quot;: &quot;209&quot;, &quot;properties&quot;: {}, &quot;type&quot;: &quot;Feature&quot;}, {&quot;bbox&quot;: [-47.43346291, -22.88416984, -47.43346291, -22.88416984], &quot;geometry&quot;: {&quot;coordinates&quot;: [-47.43346291, -22.88416984], &quot;type&quot;: &quot;Point&quot;}, &quot;id&quot;: &quot;210&quot;, &quot;properties&quot;: {}, &quot;type&quot;: &quot;Feature&quot;}, {&quot;bbox&quot;: [-47.42685272, -22.88117219, -47.42685272, -22.88117219], &quot;geometry&quot;: {&quot;coordinates&quot;: [-47.42685272, -22.88117219], &quot;type&quot;: &quot;Point&quot;}, &quot;id&quot;: &quot;211&quot;, &quot;properties&quot;: {}, &quot;type&quot;: &quot;Feature&quot;}, {&quot;bbox&quot;: [-47.43282239, -22.87940435, -47.43282239, -22.87940435], &quot;geometry&quot;: {&quot;coordinates&quot;: [-47.43282239, -22.87940435], &quot;type&quot;: &quot;Point&quot;}, &quot;id&quot;: &quot;212&quot;, &quot;properties&quot;: {}, &quot;type&quot;: &quot;Feature&quot;}, {&quot;bbox&quot;: [-47.43008095, -22.88209455, -47.43008095, -22.88209455], &quot;geometry&quot;: {&quot;coordinates&quot;: [-47.43008095, -22.88209455], &quot;type&quot;: &quot;Point&quot;}, &quot;id&quot;: &quot;213&quot;, &quot;properties&quot;: {}, &quot;type&quot;: &quot;Feature&quot;}, {&quot;bbox&quot;: [-47.42874867, -22.88686003, -47.42874867, -22.88686003], &quot;geometry&quot;: {&quot;coordinates&quot;: [-47.42874867, -22.88686003], &quot;type&quot;: &quot;Point&quot;}, &quot;id&quot;: &quot;214&quot;, &quot;properties&quot;: {}, &quot;type&quot;: &quot;Feature&quot;}, {&quot;bbox&quot;: [-47.42172854, -22.88650134, -47.42172854, -22.88650134], &quot;geometry&quot;: {&quot;coordinates&quot;: [-47.42172854, -22.88650134], &quot;type&quot;: &quot;Point&quot;}, &quot;id&quot;: &quot;215&quot;, &quot;properties&quot;: {}, &quot;type&quot;: &quot;Feature&quot;}, {&quot;bbox&quot;: [-47.42429063, -22.87502318, -47.42429063, -22.87502318], &quot;geometry&quot;: {&quot;coordinates&quot;: [-47.42429063, -22.87502318], &quot;type&quot;: &quot;Point&quot;}, &quot;id&quot;: &quot;216&quot;, &quot;properties&quot;: {}, &quot;type&quot;: &quot;Feature&quot;}, {&quot;bbox&quot;: [-47.42081663, -22.87916233, -47.42081663, -22.87916233], &quot;geometry&quot;: {&quot;coordinates&quot;: [-47.42081663, -22.87916233], &quot;type&quot;: &quot;Point&quot;}, &quot;id&quot;: &quot;217&quot;, &quot;properties&quot;: {}, &quot;type&quot;: &quot;Feature&quot;}, {&quot;bbox&quot;: [-47.40538946, -22.88369787, -47.40538946, -22.88369787], &quot;geometry&quot;: {&quot;coordinates&quot;: [-47.40538946, -22.88369787], &quot;type&quot;: &quot;Point&quot;}, &quot;id&quot;: &quot;218&quot;, &quot;properties&quot;: {}, &quot;type&quot;: &quot;Feature&quot;}, {&quot;bbox&quot;: [-47.41363034, -22.88270716, -47.41363034, -22.88270716], &quot;geometry&quot;: {&quot;coordinates&quot;: [-47.41363034, -22.88270716], &quot;type&quot;: &quot;Point&quot;}, &quot;id&quot;: &quot;219&quot;, &quot;properties&quot;: {}, &quot;type&quot;: &quot;Feature&quot;}, {&quot;bbox&quot;: [-47.40962248, -22.87451131, -47.40962248, -22.87451131], &quot;geometry&quot;: {&quot;coordinates&quot;: [-47.40962248, -22.87451131], &quot;type&quot;: &quot;Point&quot;}, &quot;id&quot;: &quot;220&quot;, &quot;properties&quot;: {}, &quot;type&quot;: &quot;Feature&quot;}, {&quot;bbox&quot;: [-47.4022372, -22.87361066, -47.4022372, -22.87361066], &quot;geometry&quot;: {&quot;coordinates&quot;: [-47.4022372, -22.87361066], &quot;type&quot;: &quot;Point&quot;}, &quot;id&quot;: &quot;221&quot;, &quot;properties&quot;: {}, &quot;type&quot;: &quot;Feature&quot;}, {&quot;bbox&quot;: [-47.39980547, -22.87325041, -47.39980547, -22.87325041], &quot;geometry&quot;: {&quot;coordinates&quot;: [-47.39980547, -22.87325041], &quot;type&quot;: &quot;Point&quot;}, &quot;id&quot;: &quot;222&quot;, &quot;properties&quot;: {}, &quot;type&quot;: &quot;Feature&quot;}, {&quot;bbox&quot;: [-47.40822648, -22.88775077, -47.40822648, -22.88775077], &quot;geometry&quot;: {&quot;coordinates&quot;: [-47.40822648, -22.88775077], &quot;type&quot;: &quot;Point&quot;}, &quot;id&quot;: &quot;223&quot;, &quot;properties&quot;: {}, &quot;type&quot;: &quot;Feature&quot;}, {&quot;bbox&quot;: [-47.41376544, -22.88599451, -47.41376544, -22.88599451], &quot;geometry&quot;: {&quot;coordinates&quot;: [-47.41376544, -22.88599451], &quot;type&quot;: &quot;Point&quot;}, &quot;id&quot;: &quot;224&quot;, &quot;properties&quot;: {}, &quot;type&quot;: &quot;Feature&quot;}, {&quot;bbox&quot;: [-47.41714285, -22.88576935, -47.41714285, -22.88576935], &quot;geometry&quot;: {&quot;coordinates&quot;: [-47.41714285, -22.88576935], &quot;type&quot;: &quot;Point&quot;}, &quot;id&quot;: &quot;225&quot;, &quot;properties&quot;: {}, &quot;type&quot;: &quot;Feature&quot;}, {&quot;bbox&quot;: [-47.40732584, -22.881086, -47.40732584, -22.881086], &quot;geometry&quot;: {&quot;coordinates&quot;: [-47.40732584, -22.881086], &quot;type&quot;: &quot;Point&quot;}, &quot;id&quot;: &quot;226&quot;, &quot;properties&quot;: {}, &quot;type&quot;: &quot;Feature&quot;}, {&quot;bbox&quot;: [-47.40399346, -22.8759073, -47.40399346, -22.8759073], &quot;geometry&quot;: {&quot;coordinates&quot;: [-47.40399346, -22.8759073], &quot;type&quot;: &quot;Point&quot;}, &quot;id&quot;: &quot;227&quot;, &quot;properties&quot;: {}, &quot;type&quot;: &quot;Feature&quot;}, {&quot;bbox&quot;: [-47.40210211, -22.87878936, -47.40210211, -22.87878936], &quot;geometry&quot;: {&quot;coordinates&quot;: [-47.40210211, -22.87878936], &quot;type&quot;: &quot;Point&quot;}, &quot;id&quot;: &quot;228&quot;, &quot;properties&quot;: {}, &quot;type&quot;: &quot;Feature&quot;}, {&quot;bbox&quot;: [-47.40457888, -22.89288443, -47.40457888, -22.89288443], &quot;geometry&quot;: {&quot;coordinates&quot;: [-47.40457888, -22.89288443], &quot;type&quot;: &quot;Point&quot;}, &quot;id&quot;: &quot;229&quot;, &quot;properties&quot;: {}, &quot;type&quot;: &quot;Feature&quot;}, {&quot;bbox&quot;: [-47.39409845, -22.8897179, -47.39409845, -22.8897179], &quot;geometry&quot;: {&quot;coordinates&quot;: [-47.39409845, -22.8897179], &quot;type&quot;: &quot;Point&quot;}, &quot;id&quot;: &quot;230&quot;, &quot;properties&quot;: {}, &quot;type&quot;: &quot;Feature&quot;}, {&quot;bbox&quot;: [-47.40044829, -22.89375242, -47.40044829, -22.89375242], &quot;geometry&quot;: {&quot;coordinates&quot;: [-47.40044829, -22.89375242], &quot;type&quot;: &quot;Point&quot;}, &quot;id&quot;: &quot;231&quot;, &quot;properties&quot;: {}, &quot;type&quot;: &quot;Feature&quot;}, {&quot;bbox&quot;: [-47.40403443, -22.88927364, -47.40403443, -22.88927364], &quot;geometry&quot;: {&quot;coordinates&quot;: [-47.40403443, -22.88927364], &quot;type&quot;: &quot;Point&quot;}, &quot;id&quot;: &quot;232&quot;, &quot;properties&quot;: {}, &quot;type&quot;: &quot;Feature&quot;}, {&quot;bbox&quot;: [-47.40209184, -22.88896443, -47.40209184, -22.88896443], &quot;geometry&quot;: {&quot;coordinates&quot;: [-47.40209184, -22.88896443], &quot;type&quot;: &quot;Point&quot;}, &quot;id&quot;: &quot;233&quot;, &quot;properties&quot;: {}, &quot;type&quot;: &quot;Feature&quot;}, {&quot;bbox&quot;: [-47.41087146, -22.88293663, -47.41087146, -22.88293663], &quot;geometry&quot;: {&quot;coordinates&quot;: [-47.41087146, -22.88293663], &quot;type&quot;: &quot;Point&quot;}, &quot;id&quot;: &quot;234&quot;, &quot;properties&quot;: {}, &quot;type&quot;: &quot;Feature&quot;}, {&quot;bbox&quot;: [-47.40657993, -22.87422253, -47.40657993, -22.87422253], &quot;geometry&quot;: {&quot;coordinates&quot;: [-47.40657993, -22.87422253], &quot;type&quot;: &quot;Point&quot;}, &quot;id&quot;: &quot;235&quot;, &quot;properties&quot;: {}, &quot;type&quot;: &quot;Feature&quot;}, {&quot;bbox&quot;: [-47.40671097, -22.87133967, -47.40671097, -22.87133967], &quot;geometry&quot;: {&quot;coordinates&quot;: [-47.40671097, -22.87133967], &quot;type&quot;: &quot;Point&quot;}, &quot;id&quot;: &quot;236&quot;, &quot;properties&quot;: {}, &quot;type&quot;: &quot;Feature&quot;}, {&quot;bbox&quot;: [-47.40235392, -22.87061895, -47.40235392, -22.87061895], &quot;geometry&quot;: {&quot;coordinates&quot;: [-47.40235392, -22.87061895], &quot;type&quot;: &quot;Point&quot;}, &quot;id&quot;: &quot;237&quot;, &quot;properties&quot;: {}, &quot;type&quot;: &quot;Feature&quot;}, {&quot;bbox&quot;: [-47.41286981, -22.87520532, -47.41286981, -22.87520532], &quot;geometry&quot;: {&quot;coordinates&quot;: [-47.41286981, -22.87520532], &quot;type&quot;: &quot;Point&quot;}, &quot;id&quot;: &quot;238&quot;, &quot;properties&quot;: {}, &quot;type&quot;: &quot;Feature&quot;}, {&quot;bbox&quot;: [-47.41087146, -22.87743299, -47.41087146, -22.87743299], &quot;geometry&quot;: {&quot;coordinates&quot;: [-47.41087146, -22.87743299], &quot;type&quot;: &quot;Point&quot;}, &quot;id&quot;: &quot;239&quot;, &quot;properties&quot;: {}, &quot;type&quot;: &quot;Feature&quot;}, {&quot;bbox&quot;: [-47.40540058, -22.87818646, -47.40540058, -22.87818646], &quot;geometry&quot;: {&quot;coordinates&quot;: [-47.40540058, -22.87818646], &quot;type&quot;: &quot;Point&quot;}, &quot;id&quot;: &quot;240&quot;, &quot;properties&quot;: {}, &quot;type&quot;: &quot;Feature&quot;}, {&quot;bbox&quot;: [-47.40330287, -22.88266951, -47.40330287, -22.88266951], &quot;geometry&quot;: {&quot;coordinates&quot;: [-47.40330287, -22.88266951], &quot;type&quot;: &quot;Point&quot;}, &quot;id&quot;: &quot;241&quot;, &quot;properties&quot;: {}, &quot;type&quot;: &quot;Feature&quot;}, {&quot;bbox&quot;: [-47.38734066, -22.90055116, -47.38734066, -22.90055116], &quot;geometry&quot;: {&quot;coordinates&quot;: [-47.38734066, -22.90055116], &quot;type&quot;: &quot;Point&quot;}, &quot;id&quot;: &quot;242&quot;, &quot;properties&quot;: {}, &quot;type&quot;: &quot;Feature&quot;}, {&quot;bbox&quot;: [-47.38655543, -22.89485235, -47.38655543, -22.89485235], &quot;geometry&quot;: {&quot;coordinates&quot;: [-47.38655543, -22.89485235], &quot;type&quot;: &quot;Point&quot;}, &quot;id&quot;: &quot;243&quot;, &quot;properties&quot;: {}, &quot;type&quot;: &quot;Feature&quot;}, {&quot;bbox&quot;: [-47.38387854, -22.89591121, -47.38387854, -22.89591121], &quot;geometry&quot;: {&quot;coordinates&quot;: [-47.38387854, -22.89591121], &quot;type&quot;: &quot;Point&quot;}, &quot;id&quot;: &quot;244&quot;, &quot;properties&quot;: {}, &quot;type&quot;: &quot;Feature&quot;}, {&quot;bbox&quot;: [-47.3906957, -22.89780288, -47.3906957, -22.89780288], &quot;geometry&quot;: {&quot;coordinates&quot;: [-47.3906957, -22.89780288], &quot;type&quot;: &quot;Point&quot;}, &quot;id&quot;: &quot;245&quot;, &quot;properties&quot;: {}, &quot;type&quot;: &quot;Feature&quot;}, {&quot;bbox&quot;: [-47.3884828, -22.89798134, -47.3884828, -22.89798134], &quot;geometry&quot;: {&quot;coordinates&quot;: [-47.3884828, -22.89798134], &quot;type&quot;: &quot;Point&quot;}, &quot;id&quot;: &quot;246&quot;, &quot;properties&quot;: {}, &quot;type&quot;: &quot;Feature&quot;}, {&quot;bbox&quot;: [-47.39380089, -22.89619675, -47.39380089, -22.89619675], &quot;geometry&quot;: {&quot;coordinates&quot;: [-47.39380089, -22.89619675], &quot;type&quot;: &quot;Point&quot;}, &quot;id&quot;: &quot;247&quot;, &quot;properties&quot;: {}, &quot;type&quot;: &quot;Feature&quot;}, {&quot;bbox&quot;: [-47.3915523, -22.89412662, -47.3915523, -22.89412662], &quot;geometry&quot;: {&quot;coordinates&quot;: [-47.3915523, -22.89412662], &quot;type&quot;: &quot;Point&quot;}, &quot;id&quot;: &quot;248&quot;, &quot;properties&quot;: {}, &quot;type&quot;: &quot;Feature&quot;}, {&quot;bbox&quot;: [-47.40051097, -22.89488804, -47.40051097, -22.89488804], &quot;geometry&quot;: {&quot;coordinates&quot;: [-47.40051097, -22.89488804], &quot;type&quot;: &quot;Point&quot;}, &quot;id&quot;: &quot;249&quot;, &quot;properties&quot;: {}, &quot;type&quot;: &quot;Feature&quot;}, {&quot;bbox&quot;: [-47.39765562, -22.90159812, -47.39765562, -22.90159812], &quot;geometry&quot;: {&quot;coordinates&quot;: [-47.39765562, -22.90159812], &quot;type&quot;: &quot;Point&quot;}, &quot;id&quot;: &quot;250&quot;, &quot;properties&quot;: {}, &quot;type&quot;: &quot;Feature&quot;}, {&quot;bbox&quot;: [-47.39522857, -22.89334139, -47.39522857, -22.89334139], &quot;geometry&quot;: {&quot;coordinates&quot;: [-47.39522857, -22.89334139], &quot;type&quot;: &quot;Point&quot;}, &quot;id&quot;: &quot;251&quot;, &quot;properties&quot;: {}, &quot;type&quot;: &quot;Feature&quot;}, {&quot;bbox&quot;: [-47.39830283, -22.89773769, -47.39830283, -22.89773769], &quot;geometry&quot;: {&quot;coordinates&quot;: [-47.39830283, -22.89773769], &quot;type&quot;: &quot;Point&quot;}, &quot;id&quot;: &quot;252&quot;, &quot;properties&quot;: {}, &quot;type&quot;: &quot;Feature&quot;}, {&quot;bbox&quot;: [-47.40079651, -22.89828972, -47.40079651, -22.89828972], &quot;geometry&quot;: {&quot;coordinates&quot;: [-47.40079651, -22.89828972], &quot;type&quot;: &quot;Point&quot;}, &quot;id&quot;: &quot;253&quot;, &quot;properties&quot;: {}, &quot;type&quot;: &quot;Feature&quot;}, {&quot;bbox&quot;: [-47.39653251, -22.89073255, -47.39653251, -22.89073255], &quot;geometry&quot;: {&quot;coordinates&quot;: [-47.39653251, -22.89073255], &quot;type&quot;: &quot;Point&quot;}, &quot;id&quot;: &quot;254&quot;, &quot;properties&quot;: {}, &quot;type&quot;: &quot;Feature&quot;}, {&quot;bbox&quot;: [-47.39603759, -22.89901308, -47.39603759, -22.89901308], &quot;geometry&quot;: {&quot;coordinates&quot;: [-47.39603759, -22.89901308], &quot;type&quot;: &quot;Point&quot;}, &quot;id&quot;: &quot;255&quot;, &quot;properties&quot;: {}, &quot;type&quot;: &quot;Feature&quot;}, {&quot;bbox&quot;: [-47.38896226, -22.89408759, -47.38896226, -22.89408759], &quot;geometry&quot;: {&quot;coordinates&quot;: [-47.38896226, -22.89408759], &quot;type&quot;: &quot;Point&quot;}, &quot;id&quot;: &quot;256&quot;, &quot;properties&quot;: {}, &quot;type&quot;: &quot;Feature&quot;}, {&quot;bbox&quot;: [-47.39199607, -22.89129173, -47.39199607, -22.89129173], &quot;geometry&quot;: {&quot;coordinates&quot;: [-47.39199607, -22.89129173], &quot;type&quot;: &quot;Point&quot;}, &quot;id&quot;: &quot;257&quot;, &quot;properties&quot;: {}, &quot;type&quot;: &quot;Feature&quot;}, {&quot;bbox&quot;: [-47.39987804, -22.88467088, -47.39987804, -22.88467088], &quot;geometry&quot;: {&quot;coordinates&quot;: [-47.39987804, -22.88467088], &quot;type&quot;: &quot;Point&quot;}, &quot;id&quot;: &quot;258&quot;, &quot;properties&quot;: {}, &quot;type&quot;: &quot;Feature&quot;}, {&quot;bbox&quot;: [-47.39642782, -22.88141101, -47.39642782, -22.88141101], &quot;geometry&quot;: {&quot;coordinates&quot;: [-47.39642782, -22.88141101], &quot;type&quot;: &quot;Point&quot;}, &quot;id&quot;: &quot;259&quot;, &quot;properties&quot;: {}, &quot;type&quot;: &quot;Feature&quot;}, {&quot;bbox&quot;: [-47.39661818, -22.88688377, -47.39661818, -22.88688377], &quot;geometry&quot;: {&quot;coordinates&quot;: [-47.39661818, -22.88688377], &quot;type&quot;: &quot;Point&quot;}, &quot;id&quot;: &quot;260&quot;, &quot;properties&quot;: {}, &quot;type&quot;: &quot;Feature&quot;}, {&quot;bbox&quot;: [-47.39747478, -22.87710419, -47.39747478, -22.87710419], &quot;geometry&quot;: {&quot;coordinates&quot;: [-47.39747478, -22.87710419], &quot;type&quot;: &quot;Point&quot;}, &quot;id&quot;: &quot;261&quot;, &quot;properties&quot;: {}, &quot;type&quot;: &quot;Feature&quot;}, {&quot;bbox&quot;: [-47.39799826, -22.87522442, -47.39799826, -22.87522442], &quot;geometry&quot;: {&quot;coordinates&quot;: [-47.39799826, -22.87522442], &quot;type&quot;: &quot;Point&quot;}, &quot;id&quot;: &quot;262&quot;, &quot;properties&quot;: {}, &quot;type&quot;: &quot;Feature&quot;}, {&quot;bbox&quot;: [-47.39987804, -22.88100651, -47.39987804, -22.88100651], &quot;geometry&quot;: {&quot;coordinates&quot;: [-47.39987804, -22.88100651], &quot;type&quot;: &quot;Point&quot;}, &quot;id&quot;: &quot;263&quot;, &quot;properties&quot;: {}, &quot;type&quot;: &quot;Feature&quot;}, {&quot;bbox&quot;: [-47.39319175, -22.88333838, -47.39319175, -22.88333838], &quot;geometry&quot;: {&quot;coordinates&quot;: [-47.39319175, -22.88333838], &quot;type&quot;: &quot;Point&quot;}, &quot;id&quot;: &quot;264&quot;, &quot;properties&quot;: {}, &quot;type&quot;: &quot;Feature&quot;}, {&quot;bbox&quot;: [-47.39247791, -22.88726449, -47.39247791, -22.88726449], &quot;geometry&quot;: {&quot;coordinates&quot;: [-47.39247791, -22.88726449], &quot;type&quot;: &quot;Point&quot;}, &quot;id&quot;: &quot;265&quot;, &quot;properties&quot;: {}, &quot;type&quot;: &quot;Feature&quot;}, {&quot;bbox&quot;: [-47.39450045, -22.88007852, -47.39450045, -22.88007852], &quot;geometry&quot;: {&quot;coordinates&quot;: [-47.39450045, -22.88007852], &quot;type&quot;: &quot;Point&quot;}, &quot;id&quot;: &quot;266&quot;, &quot;properties&quot;: {}, &quot;type&quot;: &quot;Feature&quot;}, {&quot;bbox&quot;: [-47.39864072, -22.88876355, -47.39864072, -22.88876355], &quot;geometry&quot;: {&quot;coordinates&quot;: [-47.39864072, -22.88876355], &quot;type&quot;: &quot;Point&quot;}, &quot;id&quot;: &quot;267&quot;, &quot;properties&quot;: {}, &quot;type&quot;: &quot;Feature&quot;}, {&quot;bbox&quot;: [-47.38971774, -22.89011984, -47.38971774, -22.89011984], &quot;geometry&quot;: {&quot;coordinates&quot;: [-47.38971774, -22.89011984], &quot;type&quot;: &quot;Point&quot;}, &quot;id&quot;: &quot;268&quot;, &quot;properties&quot;: {}, &quot;type&quot;: &quot;Feature&quot;}, {&quot;bbox&quot;: [-47.38878975, -22.88402842, -47.38878975, -22.88402842], &quot;geometry&quot;: {&quot;coordinates&quot;: [-47.38878975, -22.88402842], &quot;type&quot;: &quot;Point&quot;}, &quot;id&quot;: &quot;269&quot;, &quot;properties&quot;: {}, &quot;type&quot;: &quot;Feature&quot;}, {&quot;bbox&quot;: [-47.39000327, -22.88705034, -47.39000327, -22.88705034], &quot;geometry&quot;: {&quot;coordinates&quot;: [-47.39000327, -22.88705034], &quot;type&quot;: &quot;Point&quot;}, &quot;id&quot;: &quot;270&quot;, &quot;properties&quot;: {}, &quot;type&quot;: &quot;Feature&quot;}, {&quot;bbox&quot;: [-47.38291248, -22.87503406, -47.38291248, -22.87503406], &quot;geometry&quot;: {&quot;coordinates&quot;: [-47.38291248, -22.87503406], &quot;type&quot;: &quot;Point&quot;}, &quot;id&quot;: &quot;271&quot;, &quot;properties&quot;: {}, &quot;type&quot;: &quot;Feature&quot;}, {&quot;bbox&quot;: [-47.39088367, -22.87591446, -47.39088367, -22.87591446], &quot;geometry&quot;: {&quot;coordinates&quot;: [-47.39088367, -22.87591446], &quot;type&quot;: &quot;Point&quot;}, &quot;id&quot;: &quot;272&quot;, &quot;properties&quot;: {}, &quot;type&quot;: &quot;Feature&quot;}, {&quot;bbox&quot;: [-47.39157372, -22.87334464, -47.39157372, -22.87334464], &quot;geometry&quot;: {&quot;coordinates&quot;: [-47.39157372, -22.87334464], &quot;type&quot;: &quot;Point&quot;}, &quot;id&quot;: &quot;273&quot;, &quot;properties&quot;: {}, &quot;type&quot;: &quot;Feature&quot;}, {&quot;bbox&quot;: [-47.3934059, -22.8744154, -47.3934059, -22.8744154], &quot;geometry&quot;: {&quot;coordinates&quot;: [-47.3934059, -22.8744154], &quot;type&quot;: &quot;Point&quot;}, &quot;id&quot;: &quot;274&quot;, &quot;properties&quot;: {}, &quot;type&quot;: &quot;Feature&quot;}, {&quot;bbox&quot;: [-47.38714792, -22.87729455, -47.38714792, -22.87729455], &quot;geometry&quot;: {&quot;coordinates&quot;: [-47.38714792, -22.87729455], &quot;type&quot;: &quot;Point&quot;}, &quot;id&quot;: &quot;275&quot;, &quot;properties&quot;: {}, &quot;type&quot;: &quot;Feature&quot;}, {&quot;bbox&quot;: [-47.39007466, -22.87222629, -47.39007466, -22.87222629], &quot;geometry&quot;: {&quot;coordinates&quot;: [-47.39007466, -22.87222629], &quot;type&quot;: &quot;Point&quot;}, &quot;id&quot;: &quot;276&quot;, &quot;properties&quot;: {}, &quot;type&quot;: &quot;Feature&quot;}, {&quot;bbox&quot;: [-47.39459563, -22.87553375, -47.39459563, -22.87553375], &quot;geometry&quot;: {&quot;coordinates&quot;: [-47.39459563, -22.87553375], &quot;type&quot;: &quot;Point&quot;}, &quot;id&quot;: &quot;277&quot;, &quot;properties&quot;: {}, &quot;type&quot;: &quot;Feature&quot;}, {&quot;bbox&quot;: [-47.38993189, -22.8801261, -47.38993189, -22.8801261], &quot;geometry&quot;: {&quot;coordinates&quot;: [-47.38993189, -22.8801261], &quot;type&quot;: &quot;Point&quot;}, &quot;id&quot;: &quot;278&quot;, &quot;properties&quot;: {}, &quot;type&quot;: &quot;Feature&quot;}, {&quot;bbox&quot;: [-47.38543471, -22.87258321, -47.38543471, -22.87258321], &quot;geometry&quot;: {&quot;coordinates&quot;: [-47.38543471, -22.87258321], &quot;type&quot;: &quot;Point&quot;}, &quot;id&quot;: &quot;279&quot;, &quot;properties&quot;: {}, &quot;type&quot;: &quot;Feature&quot;}, {&quot;bbox&quot;: [-47.38455431, -22.87915053, -47.38455431, -22.87915053], &quot;geometry&quot;: {&quot;coordinates&quot;: [-47.38455431, -22.87915053], &quot;type&quot;: &quot;Point&quot;}, &quot;id&quot;: &quot;280&quot;, &quot;properties&quot;: {}, &quot;type&quot;: &quot;Feature&quot;}, {&quot;bbox&quot;: [-47.38517297, -22.87505785, -47.38517297, -22.87505785], &quot;geometry&quot;: {&quot;coordinates&quot;: [-47.38517297, -22.87505785], &quot;type&quot;: &quot;Point&quot;}, &quot;id&quot;: &quot;281&quot;, &quot;properties&quot;: {}, &quot;type&quot;: &quot;Feature&quot;}, {&quot;bbox&quot;: [-47.38491123, -22.88444483, -47.38491123, -22.88444483], &quot;geometry&quot;: {&quot;coordinates&quot;: [-47.38491123, -22.88444483], &quot;type&quot;: &quot;Point&quot;}, &quot;id&quot;: &quot;282&quot;, &quot;properties&quot;: {}, &quot;type&quot;: &quot;Feature&quot;}, {&quot;bbox&quot;: [-47.38764761, -22.88785935, -47.38764761, -22.88785935], &quot;geometry&quot;: {&quot;coordinates&quot;: [-47.38764761, -22.88785935], &quot;type&quot;: &quot;Point&quot;}, &quot;id&quot;: &quot;283&quot;, &quot;properties&quot;: {}, &quot;type&quot;: &quot;Feature&quot;}, {&quot;bbox&quot;: [-47.38100891, -22.87737545, -47.38100891, -22.87737545], &quot;geometry&quot;: {&quot;coordinates&quot;: [-47.38100891, -22.87737545], &quot;type&quot;: &quot;Point&quot;}, &quot;id&quot;: &quot;284&quot;, &quot;properties&quot;: {}, &quot;type&quot;: &quot;Feature&quot;}, {&quot;bbox&quot;: [-47.38486721, -22.88227119, -47.38486721, -22.88227119], &quot;geometry&quot;: {&quot;coordinates&quot;: [-47.38486721, -22.88227119], &quot;type&quot;: &quot;Point&quot;}, &quot;id&quot;: &quot;285&quot;, &quot;properties&quot;: {}, &quot;type&quot;: &quot;Feature&quot;}, {&quot;bbox&quot;: [-47.37093869, -22.89026329, -47.37093869, -22.89026329], &quot;geometry&quot;: {&quot;coordinates&quot;: [-47.37093869, -22.89026329], &quot;type&quot;: &quot;Point&quot;}, &quot;id&quot;: &quot;286&quot;, &quot;properties&quot;: {}, &quot;type&quot;: &quot;Feature&quot;}, {&quot;bbox&quot;: [-47.3673621, -22.88232115, -47.3673621, -22.88232115], &quot;geometry&quot;: {&quot;coordinates&quot;: [-47.3673621, -22.88232115], &quot;type&quot;: &quot;Point&quot;}, &quot;id&quot;: &quot;287&quot;, &quot;properties&quot;: {}, &quot;type&quot;: &quot;Feature&quot;}, {&quot;bbox&quot;: [-47.36592445, -22.88812434, -47.36592445, -22.88812434], &quot;geometry&quot;: {&quot;coordinates&quot;: [-47.36592445, -22.88812434], &quot;type&quot;: &quot;Point&quot;}, &quot;id&quot;: &quot;288&quot;, &quot;properties&quot;: {}, &quot;type&quot;: &quot;Feature&quot;}, {&quot;bbox&quot;: [-47.37072831, -22.89431325, -47.37072831, -22.89431325], &quot;geometry&quot;: {&quot;coordinates&quot;: [-47.37072831, -22.89431325], &quot;type&quot;: &quot;Point&quot;}, &quot;id&quot;: &quot;289&quot;, &quot;properties&quot;: {}, &quot;type&quot;: &quot;Feature&quot;}, {&quot;bbox&quot;: [-47.36427641, -22.89108731, -47.36427641, -22.89108731], &quot;geometry&quot;: {&quot;coordinates&quot;: [-47.36427641, -22.89108731], &quot;type&quot;: &quot;Point&quot;}, &quot;id&quot;: &quot;290&quot;, &quot;properties&quot;: {}, &quot;type&quot;: &quot;Feature&quot;}, {&quot;bbox&quot;: [-47.36858936, -22.89117497, -47.36858936, -22.89117497], &quot;geometry&quot;: {&quot;coordinates&quot;: [-47.36858936, -22.89117497], &quot;type&quot;: &quot;Point&quot;}, &quot;id&quot;: &quot;291&quot;, &quot;properties&quot;: {}, &quot;type&quot;: &quot;Feature&quot;}, {&quot;bbox&quot;: [-47.36922053, -22.88617826, -47.36922053, -22.88617826], &quot;geometry&quot;: {&quot;coordinates&quot;: [-47.36922053, -22.88617826], &quot;type&quot;: &quot;Point&quot;}, &quot;id&quot;: &quot;292&quot;, &quot;properties&quot;: {}, &quot;type&quot;: &quot;Feature&quot;}, {&quot;bbox&quot;: [-47.37199063, -22.88759837, -47.37199063, -22.88759837], &quot;geometry&quot;: {&quot;coordinates&quot;: [-47.37199063, -22.88759837], &quot;type&quot;: &quot;Point&quot;}, &quot;id&quot;: &quot;293&quot;, &quot;properties&quot;: {}, &quot;type&quot;: &quot;Feature&quot;}, {&quot;bbox&quot;: [-47.37179778, -22.89285807, -47.37179778, -22.89285807], &quot;geometry&quot;: {&quot;coordinates&quot;: [-47.37179778, -22.89285807], &quot;type&quot;: &quot;Point&quot;}, &quot;id&quot;: &quot;294&quot;, &quot;properties&quot;: {}, &quot;type&quot;: &quot;Feature&quot;}, {&quot;bbox&quot;: [-47.36808093, -22.88396919, -47.36808093, -22.88396919], &quot;geometry&quot;: {&quot;coordinates&quot;: [-47.36808093, -22.88396919], &quot;type&quot;: &quot;Point&quot;}, &quot;id&quot;: &quot;295&quot;, &quot;properties&quot;: {}, &quot;type&quot;: &quot;Feature&quot;}, {&quot;bbox&quot;: [-47.36650302, -22.89128016, -47.36650302, -22.89128016], &quot;geometry&quot;: {&quot;coordinates&quot;: [-47.36650302, -22.89128016], &quot;type&quot;: &quot;Point&quot;}, &quot;id&quot;: &quot;296&quot;, &quot;properties&quot;: {}, &quot;type&quot;: &quot;Feature&quot;}, {&quot;bbox&quot;: [-47.36775761, -22.88673845, -47.36775761, -22.88673845], &quot;geometry&quot;: {&quot;coordinates&quot;: [-47.36775761, -22.88673845], &quot;type&quot;: &quot;Point&quot;}, &quot;id&quot;: &quot;297&quot;, &quot;properties&quot;: {}, &quot;type&quot;: &quot;Feature&quot;}, {&quot;bbox&quot;: [-47.37806051, -22.88920757, -47.37806051, -22.88920757], &quot;geometry&quot;: {&quot;coordinates&quot;: [-47.37806051, -22.88920757], &quot;type&quot;: &quot;Point&quot;}, &quot;id&quot;: &quot;298&quot;, &quot;properties&quot;: {}, &quot;type&quot;: &quot;Feature&quot;}, {&quot;bbox&quot;: [-47.37344555, -22.89297188, -47.37344555, -22.89297188], &quot;geometry&quot;: {&quot;coordinates&quot;: [-47.37344555, -22.89297188], &quot;type&quot;: &quot;Point&quot;}, &quot;id&quot;: &quot;299&quot;, &quot;properties&quot;: {}, &quot;type&quot;: &quot;Feature&quot;}, {&quot;bbox&quot;: [-47.37460553, -22.89338828, -47.37460553, -22.89338828], &quot;geometry&quot;: {&quot;coordinates&quot;: [-47.37460553, -22.89338828], &quot;type&quot;: &quot;Point&quot;}, &quot;id&quot;: &quot;300&quot;, &quot;properties&quot;: {}, &quot;type&quot;: &quot;Feature&quot;}, {&quot;bbox&quot;: [-47.37957266, -22.89139548, -47.37957266, -22.89139548], &quot;geometry&quot;: {&quot;coordinates&quot;: [-47.37957266, -22.89139548], &quot;type&quot;: &quot;Point&quot;}, &quot;id&quot;: &quot;301&quot;, &quot;properties&quot;: {}, &quot;type&quot;: &quot;Feature&quot;}, {&quot;bbox&quot;: [-47.37627116, -22.88443556, -47.37627116, -22.88443556], &quot;geometry&quot;: {&quot;coordinates&quot;: [-47.37627116, -22.88443556], &quot;type&quot;: &quot;Point&quot;}, &quot;id&quot;: &quot;302&quot;, &quot;properties&quot;: {}, &quot;type&quot;: &quot;Feature&quot;}, {&quot;bbox&quot;: [-47.37329683, -22.881372, -47.37329683, -22.881372], &quot;geometry&quot;: {&quot;coordinates&quot;: [-47.37329683, -22.881372], &quot;type&quot;: &quot;Point&quot;}, &quot;id&quot;: &quot;303&quot;, &quot;properties&quot;: {}, &quot;type&quot;: &quot;Feature&quot;}, {&quot;bbox&quot;: [-47.37076865, -22.87682128, -47.37076865, -22.87682128], &quot;geometry&quot;: {&quot;coordinates&quot;: [-47.37076865, -22.87682128], &quot;type&quot;: &quot;Point&quot;}, &quot;id&quot;: &quot;304&quot;, &quot;properties&quot;: {}, &quot;type&quot;: &quot;Feature&quot;}, {&quot;bbox&quot;: [-47.37935851, -22.88199066, -47.37935851, -22.88199066], &quot;geometry&quot;: {&quot;coordinates&quot;: [-47.37935851, -22.88199066], &quot;type&quot;: &quot;Point&quot;}, &quot;id&quot;: &quot;305&quot;, &quot;properties&quot;: {}, &quot;type&quot;: &quot;Feature&quot;}, {&quot;bbox&quot;: [-47.3679371, -22.87999192, -47.3679371, -22.87999192], &quot;geometry&quot;: {&quot;coordinates&quot;: [-47.3679371, -22.87999192], &quot;type&quot;: &quot;Point&quot;}, &quot;id&quot;: &quot;306&quot;, &quot;properties&quot;: {}, &quot;type&quot;: &quot;Feature&quot;}, {&quot;bbox&quot;: [-47.38502163, -22.88924802, -47.38502163, -22.88924802], &quot;geometry&quot;: {&quot;coordinates&quot;: [-47.38502163, -22.88924802], &quot;type&quot;: &quot;Point&quot;}, &quot;id&quot;: &quot;307&quot;, &quot;properties&quot;: {}, &quot;type&quot;: &quot;Feature&quot;}, {&quot;bbox&quot;: [-47.3815952, -22.88870074, -47.3815952, -22.88870074], &quot;geometry&quot;: {&quot;coordinates&quot;: [-47.3815952, -22.88870074], &quot;type&quot;: &quot;Point&quot;}, &quot;id&quot;: &quot;308&quot;, &quot;properties&quot;: {}, &quot;type&quot;: &quot;Feature&quot;}, {&quot;bbox&quot;: [-47.38148218, -22.89322172, -47.38148218, -22.89322172], &quot;geometry&quot;: {&quot;coordinates&quot;: [-47.38148218, -22.89322172], &quot;type&quot;: &quot;Point&quot;}, &quot;id&quot;: &quot;309&quot;, &quot;properties&quot;: {}, &quot;type&quot;: &quot;Feature&quot;}, {&quot;bbox&quot;: [-47.38272842, -22.88599366, -47.38272842, -22.88599366], &quot;geometry&quot;: {&quot;coordinates&quot;: [-47.38272842, -22.88599366], &quot;type&quot;: &quot;Point&quot;}, &quot;id&quot;: &quot;310&quot;, &quot;properties&quot;: {}, &quot;type&quot;: &quot;Feature&quot;}, {&quot;bbox&quot;: [-47.3767364, -22.88206382, -47.3767364, -22.88206382], &quot;geometry&quot;: {&quot;coordinates&quot;: [-47.3767364, -22.88206382], &quot;type&quot;: &quot;Point&quot;}, &quot;id&quot;: &quot;311&quot;, &quot;properties&quot;: {}, &quot;type&quot;: &quot;Feature&quot;}, {&quot;bbox&quot;: [-47.37607494, -22.87793945, -47.37607494, -22.87793945], &quot;geometry&quot;: {&quot;coordinates&quot;: [-47.37607494, -22.87793945], &quot;type&quot;: &quot;Point&quot;}, &quot;id&quot;: &quot;312&quot;, &quot;properties&quot;: {}, &quot;type&quot;: &quot;Feature&quot;}, {&quot;bbox&quot;: [-47.37486876, -22.88739439, -47.37486876, -22.88739439], &quot;geometry&quot;: {&quot;coordinates&quot;: [-47.37486876, -22.88739439], &quot;type&quot;: &quot;Point&quot;}, &quot;id&quot;: &quot;313&quot;, &quot;properties&quot;: {}, &quot;type&quot;: &quot;Feature&quot;}, {&quot;bbox&quot;: [-47.38521843, -22.89160575, -47.38521843, -22.89160575], &quot;geometry&quot;: {&quot;coordinates&quot;: [-47.38521843, -22.89160575], &quot;type&quot;: &quot;Point&quot;}, &quot;id&quot;: &quot;314&quot;, &quot;properties&quot;: {}, &quot;type&quot;: &quot;Feature&quot;}, {&quot;bbox&quot;: [-47.37521894, -22.89000131, -47.37521894, -22.89000131], &quot;geometry&quot;: {&quot;coordinates&quot;: [-47.37521894, -22.89000131], &quot;type&quot;: &quot;Point&quot;}, &quot;id&quot;: &quot;315&quot;, &quot;properties&quot;: {}, &quot;type&quot;: &quot;Feature&quot;}, {&quot;bbox&quot;: [-47.38623025, -22.89762752, -47.38623025, -22.89762752], &quot;geometry&quot;: {&quot;coordinates&quot;: [-47.38623025, -22.89762752], &quot;type&quot;: &quot;Point&quot;}, &quot;id&quot;: &quot;316&quot;, &quot;properties&quot;: {}, &quot;type&quot;: &quot;Feature&quot;}, {&quot;bbox&quot;: [-47.37070547, -22.88210273, -47.37070547, -22.88210273], &quot;geometry&quot;: {&quot;coordinates&quot;: [-47.37070547, -22.88210273], &quot;type&quot;: &quot;Point&quot;}, &quot;id&quot;: &quot;317&quot;, &quot;properties&quot;: {}, &quot;type&quot;: &quot;Feature&quot;}, {&quot;bbox&quot;: [-47.38661728, -22.90518435, -47.38661728, -22.90518435], &quot;geometry&quot;: {&quot;coordinates&quot;: [-47.38661728, -22.90518435], &quot;type&quot;: &quot;Point&quot;}, &quot;id&quot;: &quot;318&quot;, &quot;properties&quot;: {}, &quot;type&quot;: &quot;Feature&quot;}, {&quot;bbox&quot;: [-47.3837191, -22.90392086, -47.3837191, -22.90392086], &quot;geometry&quot;: {&quot;coordinates&quot;: [-47.3837191, -22.90392086], &quot;type&quot;: &quot;Point&quot;}, &quot;id&quot;: &quot;319&quot;, &quot;properties&quot;: {}, &quot;type&quot;: &quot;Feature&quot;}, {&quot;bbox&quot;: [-47.41800036, -22.87466583, -47.41800036, -22.87466583], &quot;geometry&quot;: {&quot;coordinates&quot;: [-47.41800036, -22.87466583], &quot;type&quot;: &quot;Point&quot;}, &quot;id&quot;: &quot;320&quot;, &quot;properties&quot;: {}, &quot;type&quot;: &quot;Feature&quot;}, {&quot;bbox&quot;: [-47.43612877, -22.8778186, -47.43612877, -22.8778186], &quot;geometry&quot;: {&quot;coordinates&quot;: [-47.43612877, -22.8778186], &quot;type&quot;: &quot;Point&quot;}, &quot;id&quot;: &quot;321&quot;, &quot;properties&quot;: {}, &quot;type&quot;: &quot;Feature&quot;}, {&quot;bbox&quot;: [-47.44125202, -22.87695159, -47.44125202, -22.87695159], &quot;geometry&quot;: {&quot;coordinates&quot;: [-47.44125202, -22.87695159], &quot;type&quot;: &quot;Point&quot;}, &quot;id&quot;: &quot;322&quot;, &quot;properties&quot;: {}, &quot;type&quot;: &quot;Feature&quot;}, {&quot;bbox&quot;: [-47.437563, -22.86833106, -47.437563, -22.86833106], &quot;geometry&quot;: {&quot;coordinates&quot;: [-47.437563, -22.86833106], &quot;type&quot;: &quot;Point&quot;}, &quot;id&quot;: &quot;323&quot;, &quot;properties&quot;: {}, &quot;type&quot;: &quot;Feature&quot;}, {&quot;bbox&quot;: [-47.43228059, -22.86752204, -47.43228059, -22.86752204], &quot;geometry&quot;: {&quot;coordinates&quot;: [-47.43228059, -22.86752204], &quot;type&quot;: &quot;Point&quot;}, &quot;id&quot;: &quot;324&quot;, &quot;properties&quot;: {}, &quot;type&quot;: &quot;Feature&quot;}, {&quot;bbox&quot;: [-47.43370322, -22.87264925, -47.43370322, -22.87264925], &quot;geometry&quot;: {&quot;coordinates&quot;: [-47.43370322, -22.87264925], &quot;type&quot;: &quot;Point&quot;}, &quot;id&quot;: &quot;325&quot;, &quot;properties&quot;: {}, &quot;type&quot;: &quot;Feature&quot;}, {&quot;bbox&quot;: [-47.4260414, -22.87146547, -47.4260414, -22.87146547], &quot;geometry&quot;: {&quot;coordinates&quot;: [-47.4260414, -22.87146547], &quot;type&quot;: &quot;Point&quot;}, &quot;id&quot;: &quot;326&quot;, &quot;properties&quot;: {}, &quot;type&quot;: &quot;Feature&quot;}, {&quot;bbox&quot;: [-47.42898894, -22.86816399, -47.42898894, -22.86816399], &quot;geometry&quot;: {&quot;coordinates&quot;: [-47.42898894, -22.86816399], &quot;type&quot;: &quot;Point&quot;}, &quot;id&quot;: &quot;327&quot;, &quot;properties&quot;: {}, &quot;type&quot;: &quot;Feature&quot;}, {&quot;bbox&quot;: [-47.42687922, -22.86483325, -47.42687922, -22.86483325], &quot;geometry&quot;: {&quot;coordinates&quot;: [-47.42687922, -22.86483325], &quot;type&quot;: &quot;Point&quot;}, &quot;id&quot;: &quot;328&quot;, &quot;properties&quot;: {}, &quot;type&quot;: &quot;Feature&quot;}, {&quot;bbox&quot;: [-47.42069262, -22.86257276, -47.42069262, -22.86257276], &quot;geometry&quot;: {&quot;coordinates&quot;: [-47.42069262, -22.86257276], &quot;type&quot;: &quot;Point&quot;}, &quot;id&quot;: &quot;329&quot;, &quot;properties&quot;: {}, &quot;type&quot;: &quot;Feature&quot;}, {&quot;bbox&quot;: [-47.41776588, -22.86266794, -47.41776588, -22.86266794], &quot;geometry&quot;: {&quot;coordinates&quot;: [-47.41776588, -22.86266794], &quot;type&quot;: &quot;Point&quot;}, &quot;id&quot;: &quot;330&quot;, &quot;properties&quot;: {}, &quot;type&quot;: &quot;Feature&quot;}, {&quot;bbox&quot;: [-47.41912217, -22.86649887, -47.41912217, -22.86649887], &quot;geometry&quot;: {&quot;coordinates&quot;: [-47.41912217, -22.86649887], &quot;type&quot;: &quot;Point&quot;}, &quot;id&quot;: &quot;331&quot;, &quot;properties&quot;: {}, &quot;type&quot;: &quot;Feature&quot;}, {&quot;bbox&quot;: [-47.42035949, -22.86987771, -47.42035949, -22.86987771], &quot;geometry&quot;: {&quot;coordinates&quot;: [-47.42035949, -22.86987771], &quot;type&quot;: &quot;Point&quot;}, &quot;id&quot;: &quot;332&quot;, &quot;properties&quot;: {}, &quot;type&quot;: &quot;Feature&quot;}, {&quot;bbox&quot;: [-47.42216788, -22.87385141, -47.42216788, -22.87385141], &quot;geometry&quot;: {&quot;coordinates&quot;: [-47.42216788, -22.87385141], &quot;type&quot;: &quot;Point&quot;}, &quot;id&quot;: &quot;333&quot;, &quot;properties&quot;: {}, &quot;type&quot;: &quot;Feature&quot;}, {&quot;bbox&quot;: [-47.41538642, -22.86745066, -47.41538642, -22.86745066], &quot;geometry&quot;: {&quot;coordinates&quot;: [-47.41538642, -22.86745066], &quot;type&quot;: &quot;Point&quot;}, &quot;id&quot;: &quot;334&quot;, &quot;properties&quot;: {}, &quot;type&quot;: &quot;Feature&quot;}, {&quot;bbox&quot;: [-47.42454734, -22.86052643, -47.42454734, -22.86052643], &quot;geometry&quot;: {&quot;coordinates&quot;: [-47.42454734, -22.86052643], &quot;type&quot;: &quot;Point&quot;}, &quot;id&quot;: &quot;335&quot;, &quot;properties&quot;: {}, &quot;type&quot;: &quot;Feature&quot;}, {&quot;bbox&quot;: [-47.43525492, -22.86961597, -47.43525492, -22.86961597], &quot;geometry&quot;: {&quot;coordinates&quot;: [-47.43525492, -22.86961597], &quot;type&quot;: &quot;Point&quot;}, &quot;id&quot;: &quot;336&quot;, &quot;properties&quot;: {}, &quot;type&quot;: &quot;Feature&quot;}, {&quot;bbox&quot;: [-47.43744402, -22.87768234, -47.43744402, -22.87768234], &quot;geometry&quot;: {&quot;coordinates&quot;: [-47.43744402, -22.87768234], &quot;type&quot;: &quot;Point&quot;}, &quot;id&quot;: &quot;337&quot;, &quot;properties&quot;: {}, &quot;type&quot;: &quot;Feature&quot;}, {&quot;bbox&quot;: [-47.43884791, -22.87430351, -47.43884791, -22.87430351], &quot;geometry&quot;: {&quot;coordinates&quot;: [-47.43884791, -22.87430351], &quot;type&quot;: &quot;Point&quot;}, &quot;id&quot;: &quot;338&quot;, &quot;properties&quot;: {}, &quot;type&quot;: &quot;Feature&quot;}, {&quot;bbox&quot;: [-47.44010902, -22.86388147, -47.44010902, -22.86388147], &quot;geometry&quot;: {&quot;coordinates&quot;: [-47.44010902, -22.86388147], &quot;type&quot;: &quot;Point&quot;}, &quot;id&quot;: &quot;339&quot;, &quot;properties&quot;: {}, &quot;type&quot;: &quot;Feature&quot;}, {&quot;bbox&quot;: [-47.4406325, -22.85988397, -47.4406325, -22.85988397], &quot;geometry&quot;: {&quot;coordinates&quot;: [-47.4406325, -22.85988397], &quot;type&quot;: &quot;Point&quot;}, &quot;id&quot;: &quot;340&quot;, &quot;properties&quot;: {}, &quot;type&quot;: &quot;Feature&quot;}, {&quot;bbox&quot;: [-47.44156049, -22.86921146, -47.44156049, -22.86921146], &quot;geometry&quot;: {&quot;coordinates&quot;: [-47.44156049, -22.86921146], &quot;type&quot;: &quot;Point&quot;}, &quot;id&quot;: &quot;341&quot;, &quot;properties&quot;: {}, &quot;type&quot;: &quot;Feature&quot;}, {&quot;bbox&quot;: [-47.44413031, -22.86445254, -47.44413031, -22.86445254], &quot;geometry&quot;: {&quot;coordinates&quot;: [-47.44413031, -22.86445254], &quot;type&quot;: &quot;Point&quot;}, &quot;id&quot;: &quot;342&quot;, &quot;properties&quot;: {}, &quot;type&quot;: &quot;Feature&quot;}, {&quot;bbox&quot;: [-47.44650977, -22.86564227, -47.44650977, -22.86564227], &quot;geometry&quot;: {&quot;coordinates&quot;: [-47.44650977, -22.86564227], &quot;type&quot;: &quot;Point&quot;}, &quot;id&quot;: &quot;343&quot;, &quot;properties&quot;: {}, &quot;type&quot;: &quot;Feature&quot;}, {&quot;bbox&quot;: [-47.44877026, -22.86690338, -47.44877026, -22.86690338], &quot;geometry&quot;: {&quot;coordinates&quot;: [-47.44877026, -22.86690338], &quot;type&quot;: &quot;Point&quot;}, &quot;id&quot;: &quot;344&quot;, &quot;properties&quot;: {}, &quot;type&quot;: &quot;Feature&quot;}, {&quot;bbox&quot;: [-47.43055691, -22.86374536, -47.43055691, -22.86374536], &quot;geometry&quot;: {&quot;coordinates&quot;: [-47.43055691, -22.86374536], &quot;type&quot;: &quot;Point&quot;}, &quot;id&quot;: &quot;345&quot;, &quot;properties&quot;: {}, &quot;type&quot;: &quot;Feature&quot;}, {&quot;bbox&quot;: [-47.44045309, -22.84790053, -47.44045309, -22.84790053], &quot;geometry&quot;: {&quot;coordinates&quot;: [-47.44045309, -22.84790053], &quot;type&quot;: &quot;Point&quot;}, &quot;id&quot;: &quot;346&quot;, &quot;properties&quot;: {}, &quot;type&quot;: &quot;Feature&quot;}, {&quot;bbox&quot;: [-47.44504545, -22.84687736, -47.44504545, -22.84687736], &quot;geometry&quot;: {&quot;coordinates&quot;: [-47.44504545, -22.84687736], &quot;type&quot;: &quot;Point&quot;}, &quot;id&quot;: &quot;347&quot;, &quot;properties&quot;: {}, &quot;type&quot;: &quot;Feature&quot;}, {&quot;bbox&quot;: [-47.44768665, -22.85173146, -47.44768665, -22.85173146], &quot;geometry&quot;: {&quot;coordinates&quot;: [-47.44768665, -22.85173146], &quot;type&quot;: &quot;Point&quot;}, &quot;id&quot;: &quot;348&quot;, &quot;properties&quot;: {}, &quot;type&quot;: &quot;Feature&quot;}, {&quot;bbox&quot;: [-47.44678246, -22.85484856, -47.44678246, -22.85484856], &quot;geometry&quot;: {&quot;coordinates&quot;: [-47.44678246, -22.85484856], &quot;type&quot;: &quot;Point&quot;}, &quot;id&quot;: &quot;349&quot;, &quot;properties&quot;: {}, &quot;type&quot;: &quot;Feature&quot;}, {&quot;bbox&quot;: [-47.4408338, -22.85539583, -47.4408338, -22.85539583], &quot;geometry&quot;: {&quot;coordinates&quot;: [-47.4408338, -22.85539583], &quot;type&quot;: &quot;Point&quot;}, &quot;id&quot;: &quot;350&quot;, &quot;properties&quot;: {}, &quot;type&quot;: &quot;Feature&quot;}, {&quot;bbox&quot;: [-47.44863844, -22.85696628, -47.44863844, -22.85696628], &quot;geometry&quot;: {&quot;coordinates&quot;: [-47.44863844, -22.85696628], &quot;type&quot;: &quot;Point&quot;}, &quot;id&quot;: &quot;351&quot;, &quot;properties&quot;: {}, &quot;type&quot;: &quot;Feature&quot;}, {&quot;bbox&quot;: [-47.44683005, -22.86279596, -47.44683005, -22.86279596], &quot;geometry&quot;: {&quot;coordinates&quot;: [-47.44683005, -22.86279596], &quot;type&quot;: &quot;Point&quot;}, &quot;id&quot;: &quot;352&quot;, &quot;properties&quot;: {}, &quot;type&quot;: &quot;Feature&quot;}, {&quot;bbox&quot;: [-47.44426023, -22.85746596, -47.44426023, -22.85746596], &quot;geometry&quot;: {&quot;coordinates&quot;: [-47.44426023, -22.85746596], &quot;type&quot;: &quot;Point&quot;}, &quot;id&quot;: &quot;353&quot;, &quot;properties&quot;: {}, &quot;type&quot;: &quot;Feature&quot;}, {&quot;bbox&quot;: [-47.44435541, -22.85108901, -47.44435541, -22.85108901], &quot;geometry&quot;: {&quot;coordinates&quot;: [-47.44435541, -22.85108901], &quot;type&quot;: &quot;Point&quot;}, &quot;id&quot;: &quot;354&quot;, &quot;properties&quot;: {}, &quot;type&quot;: &quot;Feature&quot;}, {&quot;bbox&quot;: [-47.44870982, -22.84780535, -47.44870982, -22.84780535], &quot;geometry&quot;: {&quot;coordinates&quot;: [-47.44870982, -22.84780535], &quot;type&quot;: &quot;Point&quot;}, &quot;id&quot;: &quot;355&quot;, &quot;properties&quot;: {}, &quot;type&quot;: &quot;Feature&quot;}, {&quot;bbox&quot;: [-47.44302291, -22.84423616, -47.44302291, -22.84423616], &quot;geometry&quot;: {&quot;coordinates&quot;: [-47.44302291, -22.84423616], &quot;type&quot;: &quot;Point&quot;}, &quot;id&quot;: &quot;356&quot;, &quot;properties&quot;: {}, &quot;type&quot;: &quot;Feature&quot;}, {&quot;bbox&quot;: [-47.44485509, -22.84178532, -47.44485509, -22.84178532], &quot;geometry&quot;: {&quot;coordinates&quot;: [-47.44485509, -22.84178532], &quot;type&quot;: &quot;Point&quot;}, &quot;id&quot;: &quot;357&quot;, &quot;properties&quot;: {}, &quot;type&quot;: &quot;Feature&quot;}, {&quot;bbox&quot;: [-47.44247563, -22.83783541, -47.44247563, -22.83783541], &quot;geometry&quot;: {&quot;coordinates&quot;: [-47.44247563, -22.83783541], &quot;type&quot;: &quot;Point&quot;}, &quot;id&quot;: &quot;358&quot;, &quot;properties&quot;: {}, &quot;type&quot;: &quot;Feature&quot;}, {&quot;bbox&quot;: [-47.44023894, -22.83854925, -47.44023894, -22.83854925], &quot;geometry&quot;: {&quot;coordinates&quot;: [-47.44023894, -22.83854925], &quot;type&quot;: &quot;Point&quot;}, &quot;id&quot;: &quot;359&quot;, &quot;properties&quot;: {}, &quot;type&quot;: &quot;Feature&quot;}, {&quot;bbox&quot;: [-47.4350993, -22.84197567, -47.4350993, -22.84197567], &quot;geometry&quot;: {&quot;coordinates&quot;: [-47.4350993, -22.84197567], &quot;type&quot;: &quot;Point&quot;}, &quot;id&quot;: &quot;360&quot;, &quot;properties&quot;: {}, &quot;type&quot;: &quot;Feature&quot;}, {&quot;bbox&quot;: [-47.43983443, -22.84264192, -47.43983443, -22.84264192], &quot;geometry&quot;: {&quot;coordinates&quot;: [-47.43983443, -22.84264192], &quot;type&quot;: &quot;Point&quot;}, &quot;id&quot;: &quot;361&quot;, &quot;properties&quot;: {}, &quot;type&quot;: &quot;Feature&quot;}, {&quot;bbox&quot;: [-47.43900162, -22.83519421, -47.43900162, -22.83519421], &quot;geometry&quot;: {&quot;coordinates&quot;: [-47.43900162, -22.83519421], &quot;type&quot;: &quot;Point&quot;}, &quot;id&quot;: &quot;362&quot;, &quot;properties&quot;: {}, &quot;type&quot;: &quot;Feature&quot;}, {&quot;bbox&quot;: [-47.43676493, -22.83274336, -47.43676493, -22.83274336], &quot;geometry&quot;: {&quot;coordinates&quot;: [-47.43676493, -22.83274336], &quot;type&quot;: &quot;Point&quot;}, &quot;id&quot;: &quot;363&quot;, &quot;properties&quot;: {}, &quot;type&quot;: &quot;Feature&quot;}, {&quot;bbox&quot;: [-47.43198221, -22.83188676, -47.43198221, -22.83188676], &quot;geometry&quot;: {&quot;coordinates&quot;: [-47.43198221, -22.83188676], &quot;type&quot;: &quot;Point&quot;}, &quot;id&quot;: &quot;364&quot;, &quot;properties&quot;: {}, &quot;type&quot;: &quot;Feature&quot;}, {&quot;bbox&quot;: [-47.42972172, -22.82898382, -47.42972172, -22.82898382], &quot;geometry&quot;: {&quot;coordinates&quot;: [-47.42972172, -22.82898382], &quot;type&quot;: &quot;Point&quot;}, &quot;id&quot;: &quot;365&quot;, &quot;properties&quot;: {}, &quot;type&quot;: &quot;Feature&quot;}, {&quot;bbox&quot;: [-47.42589079, -22.82824618, -47.42589079, -22.82824618], &quot;geometry&quot;: {&quot;coordinates&quot;: [-47.42589079, -22.82824618], &quot;type&quot;: &quot;Point&quot;}, &quot;id&quot;: &quot;366&quot;, &quot;properties&quot;: {}, &quot;type&quot;: &quot;Feature&quot;}, {&quot;bbox&quot;: [-47.43524207, -22.83809715, -47.43524207, -22.83809715], &quot;geometry&quot;: {&quot;coordinates&quot;: [-47.43524207, -22.83809715], &quot;type&quot;: &quot;Point&quot;}, &quot;id&quot;: &quot;367&quot;, &quot;properties&quot;: {}, &quot;type&quot;: &quot;Feature&quot;}, {&quot;bbox&quot;: [-47.430269, -22.83804956, -47.430269, -22.83804956], &quot;geometry&quot;: {&quot;coordinates&quot;: [-47.430269, -22.83804956], &quot;type&quot;: &quot;Point&quot;}, &quot;id&quot;: &quot;368&quot;, &quot;properties&quot;: {}, &quot;type&quot;: &quot;Feature&quot;}, {&quot;bbox&quot;: [-47.42298785, -22.83531318, -47.42298785, -22.83531318], &quot;geometry&quot;: {&quot;coordinates&quot;: [-47.42298785, -22.83531318], &quot;type&quot;: &quot;Point&quot;}, &quot;id&quot;: &quot;369&quot;, &quot;properties&quot;: {}, &quot;type&quot;: &quot;Feature&quot;}, {&quot;bbox&quot;: [-47.42001352, -22.83005457, -47.42001352, -22.83005457], &quot;geometry&quot;: {&quot;coordinates&quot;: [-47.42001352, -22.83005457], &quot;type&quot;: &quot;Point&quot;}, &quot;id&quot;: &quot;370&quot;, &quot;properties&quot;: {}, &quot;type&quot;: &quot;Feature&quot;}, {&quot;bbox&quot;: [-47.41770544, -22.8317202, -47.41770544, -22.8317202], &quot;geometry&quot;: {&quot;coordinates&quot;: [-47.41770544, -22.8317202], &quot;type&quot;: &quot;Point&quot;}, &quot;id&quot;: &quot;371&quot;, &quot;properties&quot;: {}, &quot;type&quot;: &quot;Feature&quot;}, {&quot;bbox&quot;: [-47.41908553, -22.83638394, -47.41908553, -22.83638394], &quot;geometry&quot;: {&quot;coordinates&quot;: [-47.41908553, -22.83638394], &quot;type&quot;: &quot;Point&quot;}, &quot;id&quot;: &quot;372&quot;, &quot;properties&quot;: {}, &quot;type&quot;: &quot;Feature&quot;}, {&quot;bbox&quot;: [-47.42227401, -22.83714537, -47.42227401, -22.83714537], &quot;geometry&quot;: {&quot;coordinates&quot;: [-47.42227401, -22.83714537], &quot;type&quot;: &quot;Point&quot;}, &quot;id&quot;: &quot;373&quot;, &quot;properties&quot;: {}, &quot;type&quot;: &quot;Feature&quot;}, {&quot;bbox&quot;: [-47.42639048, -22.83757367, -47.42639048, -22.83757367], &quot;geometry&quot;: {&quot;coordinates&quot;: [-47.42639048, -22.83757367], &quot;type&quot;: &quot;Point&quot;}, &quot;id&quot;: &quot;374&quot;, &quot;properties&quot;: {}, &quot;type&quot;: &quot;Feature&quot;}, {&quot;bbox&quot;: [-47.43098284, -22.83947724, -47.43098284, -22.83947724], &quot;geometry&quot;: {&quot;coordinates&quot;: [-47.43098284, -22.83947724], &quot;type&quot;: &quot;Point&quot;}, &quot;id&quot;: &quot;375&quot;, &quot;properties&quot;: {}, &quot;type&quot;: &quot;Feature&quot;}, {&quot;bbox&quot;: [-47.41979937, -22.83426622, -47.41979937, -22.83426622], &quot;geometry&quot;: {&quot;coordinates&quot;: [-47.41979937, -22.83426622], &quot;type&quot;: &quot;Point&quot;}, &quot;id&quot;: &quot;376&quot;, &quot;properties&quot;: {}, &quot;type&quot;: &quot;Feature&quot;}, {&quot;bbox&quot;: [-47.42153637, -22.83250542, -47.42153637, -22.83250542], &quot;geometry&quot;: {&quot;coordinates&quot;: [-47.42153637, -22.83250542], &quot;type&quot;: &quot;Point&quot;}, &quot;id&quot;: &quot;377&quot;, &quot;properties&quot;: {}, &quot;type&quot;: &quot;Feature&quot;}, {&quot;bbox&quot;: [-47.42560525, -22.83198194, -47.42560525, -22.83198194], &quot;geometry&quot;: {&quot;coordinates&quot;: [-47.42560525, -22.83198194], &quot;type&quot;: &quot;Point&quot;}, &quot;id&quot;: &quot;378&quot;, &quot;properties&quot;: {}, &quot;type&quot;: &quot;Feature&quot;}, {&quot;bbox&quot;: [-47.43017382, -22.83350479, -47.43017382, -22.83350479], &quot;geometry&quot;: {&quot;coordinates&quot;: [-47.43017382, -22.83350479], &quot;type&quot;: &quot;Point&quot;}, &quot;id&quot;: &quot;379&quot;, &quot;properties&quot;: {}, &quot;type&quot;: &quot;Feature&quot;}, {&quot;bbox&quot;: [-47.4373122, -22.83647912, -47.4373122, -22.83647912], &quot;geometry&quot;: {&quot;coordinates&quot;: [-47.4373122, -22.83647912], &quot;type&quot;: &quot;Point&quot;}, &quot;id&quot;: &quot;380&quot;, &quot;properties&quot;: {}, &quot;type&quot;: &quot;Feature&quot;}, {&quot;bbox&quot;: [-47.42287078, -22.84653186, -47.42287078, -22.84653186], &quot;geometry&quot;: {&quot;coordinates&quot;: [-47.42287078, -22.84653186], &quot;type&quot;: &quot;Point&quot;}, &quot;id&quot;: &quot;381&quot;, &quot;properties&quot;: {}, &quot;type&quot;: &quot;Feature&quot;}, {&quot;bbox&quot;: [-47.43203589, -22.83624745, -47.43203589, -22.83624745], &quot;geometry&quot;: {&quot;coordinates&quot;: [-47.43203589, -22.83624745], &quot;type&quot;: &quot;Point&quot;}, &quot;id&quot;: &quot;382&quot;, &quot;properties&quot;: {}, &quot;type&quot;: &quot;Feature&quot;}, {&quot;bbox&quot;: [-47.38572024, -22.89347891, -47.38572024, -22.89347891], &quot;geometry&quot;: {&quot;coordinates&quot;: [-47.38572024, -22.89347891], &quot;type&quot;: &quot;Point&quot;}, &quot;id&quot;: &quot;383&quot;, &quot;properties&quot;: {}, &quot;type&quot;: &quot;Feature&quot;}, {&quot;bbox&quot;: [-47.37997979, -22.90710133, -47.37997979, -22.90710133], &quot;geometry&quot;: {&quot;coordinates&quot;: [-47.37997979, -22.90710133], &quot;type&quot;: &quot;Point&quot;}, &quot;id&quot;: &quot;384&quot;, &quot;properties&quot;: {}, &quot;type&quot;: &quot;Feature&quot;}, {&quot;bbox&quot;: [-47.37829632, -22.89811648, -47.37829632, -22.89811648], &quot;geometry&quot;: {&quot;coordinates&quot;: [-47.37829632, -22.89811648], &quot;type&quot;: &quot;Point&quot;}, &quot;id&quot;: &quot;385&quot;, &quot;properties&quot;: {}, &quot;type&quot;: &quot;Feature&quot;}, {&quot;bbox&quot;: [-47.40934981, -22.79509456, -47.40934981, -22.79509456], &quot;geometry&quot;: {&quot;coordinates&quot;: [-47.40934981, -22.79509456], &quot;type&quot;: &quot;Point&quot;}, &quot;id&quot;: &quot;386&quot;, &quot;properties&quot;: {}, &quot;type&quot;: &quot;Feature&quot;}, {&quot;bbox&quot;: [-47.40551449, -22.79239356, -47.40551449, -22.79239356], &quot;geometry&quot;: {&quot;coordinates&quot;: [-47.40551449, -22.79239356], &quot;type&quot;: &quot;Point&quot;}, &quot;id&quot;: &quot;387&quot;, &quot;properties&quot;: {}, &quot;type&quot;: &quot;Feature&quot;}], &quot;type&quot;: &quot;FeatureCollection&quot;});\n",
       "\n",
       "        \n",
       "&lt;/script&gt;\" style=\"position:absolute;width:100%;height:100%;left:0;top:0;border:none !important;\" allowfullscreen webkitallowfullscreen mozallowfullscreen></iframe></div></div>"
      ],
      "text/plain": [
       "<folium.folium.Map at 0x1a50a89e800>"
      ]
     },
     "execution_count": 135,
     "metadata": {},
     "output_type": "execute_result"
    }
   ],
   "source": [
    "## Plot in an interative base map to know where the \n",
    "coords = [-22.84, -47.4]\n",
    "my_map = folium.Map(location = coords, zoom_start = 12)\n",
    "folium.GeoJson(data=dataset_gp[\"geometry\"]).add_to(my_map)\n",
    "my_map"
   ]
  },
  {
   "cell_type": "markdown",
   "id": "07c5243d",
   "metadata": {},
   "source": [
    "### Carregando imagens do GEE"
   ]
  },
  {
   "cell_type": "code",
   "execution_count": 184,
   "id": "f5ad1817",
   "metadata": {},
   "outputs": [
    {
     "data": {
      "text/html": [
       "<p>To authorize access needed by Earth Engine, open the following\n",
       "        URL in a web browser and follow the instructions:</p>\n",
       "        <p><a href=https://code.earthengine.google.com/client-auth?scopes=https%3A//www.googleapis.com/auth/earthengine%20https%3A//www.googleapis.com/auth/devstorage.full_control&request_id=sI6ZFmY2LqURfPU8GfN-2x8i6z1vfwc50Iozccd2aWE&tc=5152lhqMbfQnEPtH2k260s9DTx3TfR_Jq77PUi5-igE&cc=oAY1qBlgVUxZJnfKGpalMIddgSoecp3a_hsrr2m9yno>https://code.earthengine.google.com/client-auth?scopes=https%3A//www.googleapis.com/auth/earthengine%20https%3A//www.googleapis.com/auth/devstorage.full_control&request_id=sI6ZFmY2LqURfPU8GfN-2x8i6z1vfwc50Iozccd2aWE&tc=5152lhqMbfQnEPtH2k260s9DTx3TfR_Jq77PUi5-igE&cc=oAY1qBlgVUxZJnfKGpalMIddgSoecp3a_hsrr2m9yno</a></p>\n",
       "        <p>The authorization workflow will generate a code, which you should paste in the box below.</p>\n",
       "        "
      ],
      "text/plain": [
       "<IPython.core.display.HTML object>"
      ]
     },
     "metadata": {},
     "output_type": "display_data"
    },
    {
     "name": "stdout",
     "output_type": "stream",
     "text": [
      "Enter verification code: 4/1AdQt8qg1IG0bgpnrB5z8abIv1pOgBAB5D8_FlrR5DNsUisRwW0-uwdQ58tw\n",
      "\n",
      "Successfully saved authorization token.\n"
     ]
    }
   ],
   "source": [
    "ee.Authenticate()"
   ]
  },
  {
   "cell_type": "code",
   "execution_count": 185,
   "id": "476ab211",
   "metadata": {},
   "outputs": [],
   "source": [
    "ee.Initialize()"
   ]
  },
  {
   "cell_type": "code",
   "execution_count": 186,
   "id": "0d91368f",
   "metadata": {},
   "outputs": [],
   "source": [
    "geometry = ee.Geometry.Rectangle([-47.4974254246406247,-22.9404985747395820, -47.3317077955920169,-22.7588277751145860])\n",
    "startDate = '2021-01-01'\n",
    "endDate = '2021-12-31'\n",
    "s2a = (ee.ImageCollection(\"COPERNICUS/S2_SR\")\n",
    "         .filterBounds(geometry)\n",
    "         .filterDate(startDate, endDate)\n",
    "         .filterMetadata('CLOUDY_PIXEL_PERCENTAGE','less_than', 10)\n",
    "         .select(['B2','B3','B4','B5','B6','B7','B8','B8A','B9','B11','B12'])\n",
    "         .map(lambda img: img.set('date', ee.Date(img.date()).format('YYYYMMdd')))\n",
    "         .sort('date'))"
   ]
  },
  {
   "cell_type": "code",
   "execution_count": 146,
   "id": "22e9efb3",
   "metadata": {},
   "outputs": [
    {
     "name": "stdout",
     "output_type": "stream",
     "text": [
      "Count:  71\n"
     ]
    }
   ],
   "source": [
    "# Numero de imagens\n",
    "count = s2a.size()\n",
    "print('Count: ', str(count.getInfo()))"
   ]
  },
  {
   "cell_type": "code",
   "execution_count": 147,
   "id": "6b7cc7df",
   "metadata": {},
   "outputs": [
    {
     "data": {
      "text/plain": [
       "['20210104',\n",
       " '20210203',\n",
       " '20210203',\n",
       " '20210218',\n",
       " '20210218',\n",
       " '20210223',\n",
       " '20210223',\n",
       " '20210310',\n",
       " '20210310',\n",
       " '20210315',\n",
       " '20210315',\n",
       " '20210325',\n",
       " '20210325',\n",
       " '20210330',\n",
       " '20210330',\n",
       " '20210409',\n",
       " '20210409',\n",
       " '20210414',\n",
       " '20210414',\n",
       " '20210424',\n",
       " '20210424',\n",
       " '20210429',\n",
       " '20210429',\n",
       " '20210509',\n",
       " '20210509',\n",
       " '20210514',\n",
       " '20210514',\n",
       " '20210519',\n",
       " '20210519',\n",
       " '20210603',\n",
       " '20210603',\n",
       " '20210613',\n",
       " '20210613',\n",
       " '20210703',\n",
       " '20210703',\n",
       " '20210708',\n",
       " '20210708',\n",
       " '20210713',\n",
       " '20210713',\n",
       " '20210718',\n",
       " '20210718',\n",
       " '20210723',\n",
       " '20210723',\n",
       " '20210802',\n",
       " '20210802',\n",
       " '20210817',\n",
       " '20210817',\n",
       " '20210822',\n",
       " '20210822',\n",
       " '20210901',\n",
       " '20210901',\n",
       " '20210906',\n",
       " '20210906',\n",
       " '20210926',\n",
       " '20210926',\n",
       " '20211006',\n",
       " '20211006',\n",
       " '20211105',\n",
       " '20211105',\n",
       " '20211110',\n",
       " '20211110',\n",
       " '20211125',\n",
       " '20211125',\n",
       " '20211205',\n",
       " '20211205',\n",
       " '20211210',\n",
       " '20211210',\n",
       " '20211220',\n",
       " '20211220',\n",
       " '20211225',\n",
       " '20211225']"
      ]
     },
     "execution_count": 147,
     "metadata": {},
     "output_type": "execute_result"
    }
   ],
   "source": [
    "# Conferindo as datas\n",
    "timestamplist = (s2a.aggregate_array('date')\n",
    "                 .map(lambda d: ee.String(d))\n",
    "                 .getInfo())\n",
    "timestamplist"
   ]
  },
  {
   "cell_type": "code",
   "execution_count": 190,
   "id": "db1f9859",
   "metadata": {},
   "outputs": [
    {
     "data": {
      "text/plain": [
       "<ee.image.Image at 0x25b58bfac20>"
      ]
     },
     "execution_count": 190,
     "metadata": {},
     "output_type": "execute_result"
    }
   ],
   "source": [
    "s2a_median = s2a.mean()\n",
    "s2a_median"
   ]
  },
  {
   "cell_type": "code",
   "execution_count": 191,
   "id": "25db7008",
   "metadata": {},
   "outputs": [],
   "source": [
    "def calNDVI(image):\n",
    "    ndvi = image.normalizedDifference(['B8A','B4']).rename(\"NDVI\")\n",
    "    image = image.addBands(ndvi)\n",
    "\n",
    "    return(image)"
   ]
  },
  {
   "cell_type": "code",
   "execution_count": 193,
   "id": "17468d32",
   "metadata": {},
   "outputs": [],
   "source": [
    "s2a_with_ndvi = calNDVI(s2a_median)"
   ]
  },
  {
   "cell_type": "code",
   "execution_count": 194,
   "id": "908452d6",
   "metadata": {},
   "outputs": [
    {
     "data": {
      "text/plain": [
       "{'type': 'Image',\n",
       " 'bands': [{'id': 'B2',\n",
       "   'data_type': {'type': 'PixelType',\n",
       "    'precision': 'double',\n",
       "    'min': 0,\n",
       "    'max': 65535},\n",
       "   'crs': 'EPSG:4326',\n",
       "   'crs_transform': [1, 0, 0, 0, 1, 0]},\n",
       "  {'id': 'B3',\n",
       "   'data_type': {'type': 'PixelType',\n",
       "    'precision': 'double',\n",
       "    'min': 0,\n",
       "    'max': 65535},\n",
       "   'crs': 'EPSG:4326',\n",
       "   'crs_transform': [1, 0, 0, 0, 1, 0]},\n",
       "  {'id': 'B4',\n",
       "   'data_type': {'type': 'PixelType',\n",
       "    'precision': 'double',\n",
       "    'min': 0,\n",
       "    'max': 65535},\n",
       "   'crs': 'EPSG:4326',\n",
       "   'crs_transform': [1, 0, 0, 0, 1, 0]},\n",
       "  {'id': 'B5',\n",
       "   'data_type': {'type': 'PixelType',\n",
       "    'precision': 'double',\n",
       "    'min': 0,\n",
       "    'max': 65535},\n",
       "   'crs': 'EPSG:4326',\n",
       "   'crs_transform': [1, 0, 0, 0, 1, 0]},\n",
       "  {'id': 'B6',\n",
       "   'data_type': {'type': 'PixelType',\n",
       "    'precision': 'double',\n",
       "    'min': 0,\n",
       "    'max': 65535},\n",
       "   'crs': 'EPSG:4326',\n",
       "   'crs_transform': [1, 0, 0, 0, 1, 0]},\n",
       "  {'id': 'B7',\n",
       "   'data_type': {'type': 'PixelType',\n",
       "    'precision': 'double',\n",
       "    'min': 0,\n",
       "    'max': 65535},\n",
       "   'crs': 'EPSG:4326',\n",
       "   'crs_transform': [1, 0, 0, 0, 1, 0]},\n",
       "  {'id': 'B8',\n",
       "   'data_type': {'type': 'PixelType',\n",
       "    'precision': 'double',\n",
       "    'min': 0,\n",
       "    'max': 65535},\n",
       "   'crs': 'EPSG:4326',\n",
       "   'crs_transform': [1, 0, 0, 0, 1, 0]},\n",
       "  {'id': 'B8A',\n",
       "   'data_type': {'type': 'PixelType',\n",
       "    'precision': 'double',\n",
       "    'min': 0,\n",
       "    'max': 65535},\n",
       "   'crs': 'EPSG:4326',\n",
       "   'crs_transform': [1, 0, 0, 0, 1, 0]},\n",
       "  {'id': 'B9',\n",
       "   'data_type': {'type': 'PixelType',\n",
       "    'precision': 'double',\n",
       "    'min': 0,\n",
       "    'max': 65535},\n",
       "   'crs': 'EPSG:4326',\n",
       "   'crs_transform': [1, 0, 0, 0, 1, 0]},\n",
       "  {'id': 'B11',\n",
       "   'data_type': {'type': 'PixelType',\n",
       "    'precision': 'double',\n",
       "    'min': 0,\n",
       "    'max': 65535},\n",
       "   'crs': 'EPSG:4326',\n",
       "   'crs_transform': [1, 0, 0, 0, 1, 0]},\n",
       "  {'id': 'B12',\n",
       "   'data_type': {'type': 'PixelType',\n",
       "    'precision': 'double',\n",
       "    'min': 0,\n",
       "    'max': 65535},\n",
       "   'crs': 'EPSG:4326',\n",
       "   'crs_transform': [1, 0, 0, 0, 1, 0]},\n",
       "  {'id': 'NDVI',\n",
       "   'data_type': {'type': 'PixelType',\n",
       "    'precision': 'float',\n",
       "    'min': -1,\n",
       "    'max': 1},\n",
       "   'crs': 'EPSG:4326',\n",
       "   'crs_transform': [1, 0, 0, 0, 1, 0]}]}"
      ]
     },
     "execution_count": 194,
     "metadata": {},
     "output_type": "execute_result"
    }
   ],
   "source": [
    "s2a_with_ndvi.getInfo()"
   ]
  },
  {
   "cell_type": "code",
   "execution_count": 166,
   "id": "4962c6e8",
   "metadata": {},
   "outputs": [],
   "source": [
    "## Esse método não funcionou !!\n",
    "task = ee.batch.Export.image.toDrive(**{\n",
    "    'image': s2a_with_ndvi, \n",
    "    'description': 's2a',\n",
    "    'folder': 's2', \n",
    "    'scale': 20, \n",
    "    'maxPixels':1e9, \n",
    "    'region': geometry.getInfo()['coordinates'],\n",
    "    'crs':'EPSG:4326',\n",
    "    'fileFormat':'GeoTIFF'})\n",
    "task.start()"
   ]
  },
  {
   "cell_type": "code",
   "execution_count": 180,
   "id": "efcd6b0c",
   "metadata": {},
   "outputs": [],
   "source": [
    "# Exportando a imagem\n",
    "url = s2a_with_ndvi.getDownloadUrl({\n",
    "    'region': geometry,\n",
    "    'scale': 50,\n",
    "    'format': 'GEO_TIFF'\n",
    "})\n",
    "response = requests.get(url)\n",
    "with open('s2a.tif', 'wb') as img:\n",
    "    img.write(response.content)"
   ]
  },
  {
   "cell_type": "markdown",
   "id": "f6e846ea",
   "metadata": {},
   "source": [
    "Confere este [link](https://www.w3schools.com/python/ref_func_open.asp) para uma explicação da função **open()**.   \n",
    "\n",
    "Confere esse [link](https://leimao.github.io/blog/File-IO-Binary-VS-Text/) para uma explicação do 'binary' mode.  \n",
    "\n",
    "[Link](https://code.earthengine.google.com/f04e265059d26fc02d2e7816d417d2eb) do GEE"
   ]
  },
  {
   "cell_type": "code",
   "execution_count": null,
   "id": "91e34103",
   "metadata": {},
   "outputs": [],
   "source": []
  },
  {
   "cell_type": "code",
   "execution_count": null,
   "id": "267c32f2",
   "metadata": {},
   "outputs": [],
   "source": []
  },
  {
   "cell_type": "code",
   "execution_count": null,
   "id": "cff40ef6",
   "metadata": {},
   "outputs": [],
   "source": []
  },
  {
   "cell_type": "code",
   "execution_count": null,
   "id": "0124ba08",
   "metadata": {},
   "outputs": [],
   "source": []
  },
  {
   "cell_type": "code",
   "execution_count": null,
   "id": "96ae3ca7",
   "metadata": {},
   "outputs": [],
   "source": []
  },
  {
   "cell_type": "code",
   "execution_count": null,
   "id": "173ac396",
   "metadata": {},
   "outputs": [],
   "source": []
  },
  {
   "cell_type": "code",
   "execution_count": 56,
   "id": "2184ee3b",
   "metadata": {},
   "outputs": [],
   "source": []
  },
  {
   "cell_type": "code",
   "execution_count": null,
   "id": "be732285",
   "metadata": {},
   "outputs": [],
   "source": []
  },
  {
   "cell_type": "code",
   "execution_count": null,
   "id": "3cdbc20c",
   "metadata": {},
   "outputs": [],
   "source": []
  },
  {
   "cell_type": "code",
   "execution_count": null,
   "id": "f6f4462f",
   "metadata": {},
   "outputs": [],
   "source": []
  },
  {
   "cell_type": "code",
   "execution_count": null,
   "id": "05a38f2a",
   "metadata": {},
   "outputs": [],
   "source": []
  }
 ],
 "metadata": {
  "kernelspec": {
   "display_name": "geo_env",
   "language": "python",
   "name": "geo_env"
  },
  "language_info": {
   "codemirror_mode": {
    "name": "ipython",
    "version": 3
   },
   "file_extension": ".py",
   "mimetype": "text/x-python",
   "name": "python",
   "nbconvert_exporter": "python",
   "pygments_lexer": "ipython3",
   "version": "3.10.5"
  }
 },
 "nbformat": 4,
 "nbformat_minor": 5
}
